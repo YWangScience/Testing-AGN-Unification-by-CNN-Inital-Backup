{
 "cells": [
  {
   "cell_type": "markdown",
   "metadata": {},
   "source": [
    "# Traning for SY 1.9 & 2.0"
   ]
  },
  {
   "cell_type": "code",
   "execution_count": 1,
   "metadata": {
    "ExecuteTime": {
     "end_time": "2019-11-17T01:33:00.202612Z",
     "start_time": "2019-11-17T01:33:00.190934Z"
    }
   },
   "outputs": [],
   "source": [
    "import torch\n",
    "from torch import nn, optim\n",
    "import torch.nn.functional as F\n",
    "import time\n",
    "import os\n",
    "import datetime\n",
    "import glob\n",
    "import csv\n",
    "\n",
    "import torchvision\n",
    "from torch.utils.data import DataLoader, TensorDataset, ConcatDataset, random_split\n",
    "from torchvision import transforms\n",
    "\n",
    "import pandas as pd\n",
    "import seaborn as sns\n",
    "\n",
    "from numpy import genfromtxt\n",
    "\n",
    "import numpy as np\n",
    "import matplotlib.pyplot as plt\n",
    "%matplotlib inline"
   ]
  },
  {
   "cell_type": "markdown",
   "metadata": {},
   "source": [
    "## define functions"
   ]
  },
  {
   "cell_type": "code",
   "execution_count": 2,
   "metadata": {
    "ExecuteTime": {
     "end_time": "2019-11-17T01:33:02.099409Z",
     "start_time": "2019-11-17T01:33:02.093915Z"
    }
   },
   "outputs": [],
   "source": [
    "def plotSpec(seyfert,n):\n",
    "    if seyfert == 1.9:\n",
    "        plt.plot(np.linspace(3800,7500,7500-3800+1), sy19_feature[n].tolist())\n",
    "    if seyfert == 2:\n",
    "        plt.plot(np.linspace(3800,7500,7500-3800+1), sy2_feature[n].tolist())\n",
    "        \n",
    "def sizeMap(inputSize):\n",
    "    C1 = (inputSize-50)+1\n",
    "    S2 = int(C1/2)\n",
    "    C3 = (S2-50)+1\n",
    "    S4 = int(C3/2)\n",
    "    return C1, S2, C3, S4\n",
    "\n",
    "\n",
    "def read_data(filename, delimiter=','):\n",
    "    with open(filename, 'r') as my_file:\n",
    "        reader = csv.reader(my_file, delimiter=delimiter)\n",
    "        my_list = list(reader)[0]\n",
    "        my_list= [float(i) for i in my_list]\n",
    "        return my_list"
   ]
  },
  {
   "cell_type": "markdown",
   "metadata": {},
   "source": [
    "## read  data"
   ]
  },
  {
   "cell_type": "code",
   "execution_count": 3,
   "metadata": {
    "ExecuteTime": {
     "end_time": "2019-11-17T01:33:24.650051Z",
     "start_time": "2019-11-17T01:33:03.197175Z"
    }
   },
   "outputs": [],
   "source": [
    "# The feature size is 1x(7500-3800+1), a pixel to one wavelenght\n",
    "# merge data in previouly defined in different files\n",
    "sy19_feature_train = read_data('sy19-pixels-3800-7500-redshifted-normalized.csv', delimiter=',')\n",
    "sy19_feature_test = read_data('sy19-test-pixels-3800-7500-redshifted-normalized.csv', delimiter=',')\n",
    "sy20_feature_1 = read_data('sy20-pixels-3800-7500-redshifted-normalized.csv', delimiter=',')\n",
    "sy20_feature_2 = read_data('sy20-test-pixels-3800-7500-redshifted-normalized.0.csv', delimiter=',')\n",
    "sy20_feature_3 = read_data('sy20-test-pixels-3800-7500-redshifted-normalized.1.csv', delimiter=',')\n",
    "sy20_feature_4 = read_data('sy20-test-pixels-3800-7500-redshifted-normalized.2.csv', delimiter=',')\n",
    "sy20_feature_5 = read_data('sy20-test-pixels-3800-7500-redshifted-normalized.3.csv', delimiter=',')\n",
    "sy20_feature_6 = read_data('sy20-test-pixels-3800-7500-redshifted-normalized.4.csv', delimiter=',')\n",
    "sy20_feature_7 = read_data('sy20-test-pixels-3800-7500-redshifted-normalized.5.csv', delimiter=',')\n",
    "sy20_feature_8 = read_data('sy20-test-pixels-3800-7500-redshifted-normalized.6.csv', delimiter=',')"
   ]
  },
  {
   "cell_type": "code",
   "execution_count": 4,
   "metadata": {
    "ExecuteTime": {
     "end_time": "2019-11-17T01:34:09.380356Z",
     "start_time": "2019-11-17T01:33:50.857677Z"
    }
   },
   "outputs": [
    {
     "name": "stdout",
     "output_type": "stream",
     "text": [
      "reading: sy19-pixels-3800-7500-redshifted-normalized-noise.0.csv\n",
      "reading: sy19-pixels-3800-7500-redshifted-normalized-noise.1.csv\n",
      "reading: sy19-pixels-3800-7500-redshifted-normalized-noise.2.csv\n",
      "reading: sy19-pixels-3800-7500-redshifted-normalized-noise.3.csv\n",
      "reading: sy19-pixels-3800-7500-redshifted-normalized-noise.4.csv\n",
      "reading: sy19-pixels-3800-7500-redshifted-normalized-noise.5.csv\n",
      "reading: sy19-pixels-3800-7500-redshifted-normalized-noise.6.csv\n",
      "reading: sy19-pixels-3800-7500-redshifted-normalized-noise.7.csv\n",
      "reading: sy19-pixels-3800-7500-redshifted-normalized-noise.8.csv\n",
      "reading: sy19-pixels-3800-7500-redshifted-normalized-noise.9.csv\n",
      "reading: sy19-test-pixels-3800-7500-redshifted-normalized-noise.0.csv\n",
      "reading: sy19-test-pixels-3800-7500-redshifted-normalized-noise.1.csv\n",
      "reading: sy19-test-pixels-3800-7500-redshifted-normalized-noise.2.csv\n",
      "reading: sy19-test-pixels-3800-7500-redshifted-normalized-noise.3.csv\n",
      "reading: sy19-test-pixels-3800-7500-redshifted-normalized-noise.4.csv\n",
      "reading: sy19-test-pixels-3800-7500-redshifted-normalized-noise.5.csv\n",
      "reading: sy19-test-pixels-3800-7500-redshifted-normalized-noise.6.csv\n",
      "reading: sy19-test-pixels-3800-7500-redshifted-normalized-noise.7.csv\n",
      "reading: sy19-test-pixels-3800-7500-redshifted-normalized-noise.8.csv\n",
      "reading: sy19-test-pixels-3800-7500-redshifted-normalized-noise.9.csv\n"
     ]
    }
   ],
   "source": [
    "# read sy19 with noise   \n",
    "sy19_noise_feature_train = []\n",
    "for file in glob.glob('sy19-pixels*noise*'):\n",
    "    print('reading:', file)\n",
    "    file_feature = read_data(file, delimiter=',')\n",
    "    sy19_noise_feature_train = np.concatenate((sy19_noise_feature_train, file_feature), axis=0)\n",
    "\n",
    "sy19_noise_feature_test = []\n",
    "for file in glob.glob('sy19-test*noise*'):\n",
    "    print('reading:', file)\n",
    "    file_feature = read_data(file, delimiter=',')\n",
    "    sy19_noise_feature_test = np.concatenate((sy19_noise_feature_test, file_feature), axis=0)"
   ]
  },
  {
   "cell_type": "code",
   "execution_count": 5,
   "metadata": {
    "ExecuteTime": {
     "end_time": "2019-11-17T01:34:37.543254Z",
     "start_time": "2019-11-17T01:34:36.764554Z"
    }
   },
   "outputs": [],
   "source": [
    "##  Small sample pre-traning\n",
    "#sy19_feature = sy19_feature_1\n",
    "#sy20_feature = sy20_feature_1\n",
    "\n",
    "## Full sample\n",
    "sy19_feature_train = np.concatenate((sy19_feature_train,  sy19_noise_feature_train), axis=0)\n",
    "#sy19_feature_test = np.concatenate((sy19_feature_test, sy19_noise_feature_test), axis=0)\n",
    "sy20_feature = np.concatenate((sy20_feature_1, sy20_feature_2,sy20_feature_3,sy20_feature_4,\\\n",
    "                               sy20_feature_5,sy20_feature_6,sy20_feature_7,sy20_feature_8), axis=0)\n",
    "\n",
    "sy19_feature_train = torch.Tensor(sy19_feature_train).view(-1,7500-3800+1)\n",
    "sy19_feature_test = torch.Tensor(sy19_feature_test).view(-1,7500-3800+1)\n",
    "sy20_feature = torch.Tensor(sy20_feature).view(-1,7500-3800+1)"
   ]
  },
  {
   "cell_type": "code",
   "execution_count": 6,
   "metadata": {
    "ExecuteTime": {
     "end_time": "2019-11-17T01:35:02.894039Z",
     "start_time": "2019-11-17T01:35:02.891553Z"
    }
   },
   "outputs": [
    {
     "name": "stdout",
     "output_type": "stream",
     "text": [
      "3300 445 8400\n"
     ]
    }
   ],
   "source": [
    "print(len(sy19_feature_train),len(sy19_feature_test),len(sy20_feature))"
   ]
  },
  {
   "cell_type": "code",
   "execution_count": 8,
   "metadata": {
    "ExecuteTime": {
     "end_time": "2019-11-17T01:48:40.984269Z",
     "start_time": "2019-11-17T01:48:40.945447Z"
    }
   },
   "outputs": [],
   "source": [
    "# filter wavelength\n",
    "## filter from 6400-6700\n",
    "## 6400-3800 = 2600\n",
    "## 6400-3800 + 400 = 3000\n",
    "## 3701-2900 = 801\n",
    "sy19_feature_train = torch.cat([sy19_feature_train.narrow(1,0,2600),sy19_feature_train.narrow(1,3000,701)],1)\n",
    "sy19_feature_test = torch.cat([sy19_feature_test.narrow(1,0,2600),sy19_feature_test.narrow(1,3000,701)],1)\n",
    "sy20_feature = torch.cat([sy20_feature.narrow(1,0,2600),sy20_feature.narrow(1,3000,701)],1)"
   ]
  },
  {
   "cell_type": "code",
   "execution_count": 27,
   "metadata": {},
   "outputs": [
    {
     "data": {
      "text/plain": [
       "3301"
      ]
     },
     "execution_count": 27,
     "metadata": {},
     "output_type": "execute_result"
    }
   ],
   "source": [
    "sy19_feature_train[1].size(0)"
   ]
  },
  {
   "cell_type": "code",
   "execution_count": 9,
   "metadata": {
    "ExecuteTime": {
     "end_time": "2019-11-17T01:49:06.512446Z",
     "start_time": "2019-11-17T01:49:06.329290Z"
    }
   },
   "outputs": [],
   "source": [
    "# classify 1.9 as 1, and 2 as 0. \n",
    "sy19_label_train = torch.ones(sy19_feature_train.size(0),dtype=torch.long)\n",
    "sy19_label_test = torch.ones(sy19_feature_test.size(0),dtype=torch.long)\n",
    "sy20_label = torch.zeros(sy20_feature.size(0),dtype=torch.long)\n",
    "\n",
    "# create indices\n",
    "sy19_indice_train = torch.linspace(0,len(sy19_feature_train)-1,len(sy19_feature_train)).int()\n",
    "sy19_indice_test = torch.linspace(0,len(sy19_feature_test)-1,len(sy19_feature_test)).int()\n",
    "sy20_indice = torch.linspace(0,len(sy20_feature)-1,len(sy20_feature)).int()\n",
    "\n",
    "# taking same number of 1.9 and 2.0 seyfert galaxies\n",
    "sy19_dataset_train = TensorDataset(sy19_indice_train,sy19_feature_train,sy19_label_train)\n",
    "sy19_dataset_test = TensorDataset(sy19_indice_test,sy19_feature_test,sy19_label_test)\n",
    "\n",
    "sy20_dataset_train = TensorDataset(sy20_indice[:len(sy19_dataset_train)],sy20_feature[:len(sy19_dataset_train)],sy20_label[:len(sy19_dataset_train)])\n",
    "sy20_dataset_test = TensorDataset(sy20_indice[len(sy19_dataset_train):],sy20_feature[len(sy19_dataset_train):],sy20_label[len(sy19_dataset_train):])\n",
    "\n",
    "# merge the test dataset\n",
    "dataset = ConcatDataset((sy19_dataset_train,sy20_dataset_train))"
   ]
  },
  {
   "cell_type": "code",
   "execution_count": 10,
   "metadata": {
    "ExecuteTime": {
     "end_time": "2019-11-16T23:12:03.403326Z",
     "start_time": "2019-11-16T23:11:54.137Z"
    }
   },
   "outputs": [],
   "source": [
    "# split to train and test datasets\n",
    "#train_ratio = 0.75\n",
    "#train_size = int(train_ratio * len(sy19_dataset))\n",
    "#test_size = len(sy19_dataset) - train_size\n",
    "\n",
    "#sy19_train_dataset, sy19_test_dataset = random_split(sy19_dataset, [train_size, test_size])\n",
    "#sy20_train_dataset, sy20_test_dataset = random_split(sy20_dataset, [train_size, test_size])\n",
    "\n",
    "# merge the test dataset\n",
    "#dataset = ConcatDataset((sy19_train_dataset,sy20_train_dataset))"
   ]
  },
  {
   "cell_type": "code",
   "execution_count": 11,
   "metadata": {
    "ExecuteTime": {
     "end_time": "2019-11-16T23:12:03.405396Z",
     "start_time": "2019-11-16T23:11:54.510Z"
    }
   },
   "outputs": [],
   "source": [
    "# merge data\n",
    "#features = torch.cat((sy19_feature,sy20_feature[:len(sy19_feature)]),0)\n",
    "#labels = torch.cat((sy19_label,sy20_label[:len(sy19_feature)]),0)\n",
    "#indices = torch.cat((sy19_indice,sy20_indice[:len(sy19_feature)]),0)\n",
    "\n",
    "## shuffle the dataset \n",
    "#dataset_rand = dataset[torch.randperm(len(dataset))]"
   ]
  },
  {
   "cell_type": "markdown",
   "metadata": {},
   "source": [
    "## read test data"
   ]
  },
  {
   "cell_type": "code",
   "execution_count": 12,
   "metadata": {},
   "outputs": [],
   "source": [
    "# The feature size is 1x(7500-3800+1), a pixel to one wavelenght\n",
    "#sy19_test_feature = genfromtxt('sy19-test-pixels-3800-7500-redshifted-normalized.csv', delimiter=',')\n",
    "#sy20_test_feature = genfromtxt('sy20-test-pixels-3800-7500-redshifted-normalized.0.csv', delimiter=',')\n",
    "#\n",
    "#sy19_test_feature = torch.Tensor(sy19_test_feature).view(-1,7500-3800+1)\n",
    "#sy20_test_feature = torch.Tensor(sy20_test_feature).view(-1,7500-3800+1)"
   ]
  },
  {
   "cell_type": "code",
   "execution_count": 13,
   "metadata": {},
   "outputs": [],
   "source": [
    "# classify 1.9 as 1, and 2 as 0. \n",
    "#sy19_test_label = torch.ones(sy19_test_feature.size(0),dtype=torch.long)\n",
    "#sy20_test_label = torch.zeros(sy20_test_feature.size(0),dtype=torch.long)\n",
    "\n",
    "# create indices\n",
    "#sy19_test_indice = torch.linspace(0,len(sy19_test_feature)-1,len(sy19_test_feature)).int()\n",
    "#sy20_test_indice = torch.linspace(0,len(sy20_test_feature)-1,len(sy20_test_feature)).int()"
   ]
  },
  {
   "cell_type": "code",
   "execution_count": 14,
   "metadata": {},
   "outputs": [],
   "source": [
    "#sy19_test_dataset = TensorDataset(sy19_test_indice,sy19_test_feature,sy19_test_label)\n",
    "#sy20_test_dataset = TensorDataset(sy20_test_indice,sy20_test_feature,sy20_test_label)"
   ]
  },
  {
   "cell_type": "markdown",
   "metadata": {},
   "source": [
    "## CNN Network - One layer of Full CNN"
   ]
  },
  {
   "cell_type": "markdown",
   "metadata": {},
   "source": [
    "### computing output size of image\n",
    "\n",
    "\n",
    "- i = input\n",
    "- o = output\n",
    "- p = padding\n",
    "- k = kernel_size\n",
    "- s = stride\n",
    "- d = dilation\n",
    "\n",
    "o = [i + 2*p - k - (k-1)*(d-1)]/s + 1\n",
    "\n",
    "In your case this gives o = [32 + 2 - 3 - 2*1]/1 +1 = [29] + 1 = 30.\n",
    "Now, you could set all your parameters and “solve” the equation for p.\n",
    "You will see, that p=2 will give you an output size of 32.\n",
    "\n",
    "You could  with some tools like ezyang’s convolution visualizer 308 or calculate it with this formula:\n",
    "https://ezyang.github.io/convolution-visualizer/index.html\n",
    "\n"
   ]
  },
  {
   "cell_type": "markdown",
   "metadata": {},
   "source": [
    "###  Network Map\n",
    "\n",
    "| Layer | Type | Maps | Kernel_size | Padding | Stride | Image_size | Activation | Comment |\n",
    "| --- | --- | --- | --- | --- | --- | --- | --- | --- |\n",
    "|  Out | Linear | - | - | - | - | 2 | - |  |\n",
    "|  F7 | Linear | - | - | - | - | 100 | ReLU | 1000 -> 100  |\n",
    "|  D6 | Dropout (0.5) | - | - | - | - | - | - | - |\n",
    "|  C5 | Convolution | 1000 | 888 | 0 | 1 | 1 | ReLU |  |\n",
    "|  S4 | Avg Pooling | 128 | 2 | 0 | 2 | 888 | - |  |\n",
    "|  C3 | Convolution | 128 | 50 | 0 | 1 | 1777 | ReLU |  |\n",
    "|  S2 | Avg Pooling | 64 | 2 | 0 | 2 | 1826 | - |  |\n",
    "|  C1 | Convolution | 64 | 50 | 0 | 1 | 3652 | ReLU |  |\n",
    "| In | Input | 1 | - | - |- | 3701 |- | |"
   ]
  },
  {
   "cell_type": "code",
   "execution_count": 28,
   "metadata": {
    "ExecuteTime": {
     "end_time": "2019-11-17T01:49:33.443900Z",
     "start_time": "2019-11-17T01:49:33.440945Z"
    }
   },
   "outputs": [
    {
     "data": {
      "text/plain": [
       "(3252, 1626, 1577, 788)"
      ]
     },
     "execution_count": 28,
     "metadata": {},
     "output_type": "execute_result"
    }
   ],
   "source": [
    "sizeMap(3301)"
   ]
  },
  {
   "cell_type": "code",
   "execution_count": 29,
   "metadata": {
    "ExecuteTime": {
     "end_time": "2019-11-17T01:50:21.040321Z",
     "start_time": "2019-11-17T01:50:21.033625Z"
    }
   },
   "outputs": [],
   "source": [
    "class simpleCNN(nn.Module):\n",
    "    \n",
    "    def __init__(self):\n",
    "        super(simpleCNN, self).__init__()\n",
    "        self.C1 = nn.Conv1d(1, 64, 50)\n",
    "        self.S2 = nn.AvgPool1d(2, stride=2)\n",
    "        self.C3 = nn.Conv1d(64, 128, 50)\n",
    "        self.S4 = nn.AvgPool1d(2, stride=2)\n",
    "        self.C5 = nn.Conv1d(128, 1000, 788)\n",
    "        self.D6 = nn.Dropout(0.5)\n",
    "        self.F7 = nn.Linear(1000, 100)\n",
    "        self.Out= nn.Linear(100, 2)\n",
    "        \n",
    "    def forward(self, x):\n",
    "        x = F.relu(self.C1(x),inplace=True)\n",
    "        x = self.S2(x)\n",
    "        x = F.relu(self.C3(x),inplace=True)\n",
    "        x = self.S4(x)\n",
    "        x = F.relu(self.C5(x),inplace=True)\n",
    "        x = self.D6(x)\n",
    "        x = x.view(x.size(0),-1)\n",
    "        x = F.relu(self.F7(x),inplace=True)\n",
    "        x = self.Out(x)\n",
    "        return x"
   ]
  },
  {
   "cell_type": "code",
   "execution_count": 30,
   "metadata": {
    "ExecuteTime": {
     "end_time": "2019-11-17T01:50:40.038776Z",
     "start_time": "2019-11-17T01:50:39.563741Z"
    }
   },
   "outputs": [
    {
     "name": "stdout",
     "output_type": "stream",
     "text": [
      "simpleCNN(\n",
      "  (C1): Conv1d(1, 64, kernel_size=(50,), stride=(1,))\n",
      "  (S2): AvgPool1d(kernel_size=(2,), stride=(2,), padding=(0,))\n",
      "  (C3): Conv1d(64, 128, kernel_size=(50,), stride=(1,))\n",
      "  (S4): AvgPool1d(kernel_size=(2,), stride=(2,), padding=(0,))\n",
      "  (C5): Conv1d(128, 1000, kernel_size=(788,), stride=(1,))\n",
      "  (D6): Dropout(p=0.5, inplace=False)\n",
      "  (F7): Linear(in_features=1000, out_features=100, bias=True)\n",
      "  (Out): Linear(in_features=100, out_features=2, bias=True)\n",
      ")\n"
     ]
    }
   ],
   "source": [
    "net = simpleCNN()\n",
    "print(net)"
   ]
  },
  {
   "cell_type": "code",
   "execution_count": 32,
   "metadata": {
    "ExecuteTime": {
     "end_time": "2019-11-17T01:50:48.716279Z",
     "start_time": "2019-11-17T01:50:48.430796Z"
    }
   },
   "outputs": [
    {
     "data": {
      "text/plain": [
       "tensor([[ 0.0651, -0.0456],\n",
       "        [ 0.0536, -0.0739],\n",
       "        [ 0.0588, -0.0755],\n",
       "        [ 0.0501, -0.0625],\n",
       "        [ 0.0434, -0.0524]], grad_fn=<AddmmBackward>)"
      ]
     },
     "execution_count": 32,
     "metadata": {},
     "output_type": "execute_result"
    }
   ],
   "source": [
    "## Test\n",
    "x = torch.randn(5,1,3301)\n",
    "net(x)"
   ]
  },
  {
   "cell_type": "markdown",
   "metadata": {},
   "source": [
    "### Check GPU availabel"
   ]
  },
  {
   "cell_type": "code",
   "execution_count": 33,
   "metadata": {
    "ExecuteTime": {
     "end_time": "2019-11-17T01:51:02.697018Z",
     "start_time": "2019-11-17T01:50:55.429731Z"
    }
   },
   "outputs": [
    {
     "name": "stdout",
     "output_type": "stream",
     "text": [
      "USE GPU\n"
     ]
    }
   ],
   "source": [
    "use_gpu = torch.cuda.is_available()\n",
    "if use_gpu:\n",
    "    net.cuda(5)\n",
    "    device = torch.device('cuda:5')\n",
    "    print ('USE GPU')\n",
    "else:\n",
    "    device = torch.device('cpu')\n",
    "    print ('USE CPU')"
   ]
  },
  {
   "cell_type": "markdown",
   "metadata": {},
   "source": [
    "### define optimizer, loss function and accuracy "
   ]
  },
  {
   "cell_type": "code",
   "execution_count": 41,
   "metadata": {
    "ExecuteTime": {
     "end_time": "2019-11-17T02:23:06.539254Z",
     "start_time": "2019-11-17T02:23:06.535288Z"
    }
   },
   "outputs": [],
   "source": [
    "learning_rate = 0.001\n",
    "\n",
    "loss = nn.CrossEntropyLoss() # 包含了softmax 和 cross entropy\n",
    "optimizer = optim.SGD(net.parameters(), lr=learning_rate, momentum=0.9)\n",
    "#optimizer = optim.Adam(net.parameters(), lr=learning_rate, betas=(0.9,0.999), eps=1e-8)\n",
    "#optimizer = optim.SGD(net.parameters(), lr=learning_rate)"
   ]
  },
  {
   "cell_type": "code",
   "execution_count": 35,
   "metadata": {
    "ExecuteTime": {
     "end_time": "2019-11-17T01:51:21.765572Z",
     "start_time": "2019-11-17T01:51:21.761095Z"
    }
   },
   "outputs": [],
   "source": [
    "def accuracy(y_hat, y):\n",
    "#    y_hat = torch.sign(y_hat)\n",
    "    return (y_hat.argmax(dim=1) == y).float().mean().item()\n",
    "\n",
    "def evaluate_accuracy(data_iter, net, device):\n",
    "    acc = torch.tensor([0.0], device=device)\n",
    "    for (index, img, label) in data_iter:\n",
    "        img = img.view(-1,1,3301)\n",
    "        # 如果 device 是 GPU，将数据复制到 GPU 上。\n",
    "        if use_gpu:\n",
    "            index, img, label = index.to(device), img.to(device), label.to(device)\n",
    "        acc += accuracy(net(img), label)\n",
    "    return acc.item() / len(data_iter)"
   ]
  },
  {
   "cell_type": "markdown",
   "metadata": {},
   "source": [
    "### TRAINING"
   ]
  },
  {
   "cell_type": "code",
   "execution_count": 36,
   "metadata": {
    "ExecuteTime": {
     "end_time": "2019-11-16T23:34:17.247125Z",
     "start_time": "2019-11-16T23:34:17.245348Z"
    }
   },
   "outputs": [],
   "source": [
    "##original saved file with DataParallel\n",
    "#state_dict = torch.load('./cuda3.pt')\n",
    "#\n",
    "### create new OrderedDict that does not contain module.\n",
    "#from collections import OrderedDict\n",
    "#new_state_dict = OrderedDict()\n",
    "#\n",
    "#for k, v in state_dict.items():\n",
    "#    name = k[7:] # remove module.\n",
    "#    new_state_dict[name] = v\n",
    "#\n",
    "### load params\n",
    "#net.load_state_dict(new_state_dict)\n",
    "#\n",
    "#net.load_state_dict(torch.load('./cuda3.pt'))"
   ]
  },
  {
   "cell_type": "code",
   "execution_count": 37,
   "metadata": {
    "ExecuteTime": {
     "end_time": "2019-11-17T01:51:35.163148Z",
     "start_time": "2019-11-17T01:51:35.160040Z"
    }
   },
   "outputs": [],
   "source": [
    "num_epochs = 500\n",
    "\n",
    "batch_size = 64\n",
    "train_iter = DataLoader(dataset, batch_size=batch_size, shuffle=True, num_workers=4)"
   ]
  },
  {
   "cell_type": "code",
   "execution_count": null,
   "metadata": {},
   "outputs": [],
   "source": []
  },
  {
   "cell_type": "code",
   "execution_count": 38,
   "metadata": {},
   "outputs": [],
   "source": [
    "## laod previous traning results\n",
    "#\n",
    "#net.load_state_dict(torch.load('cuda3-GOOD.pt'))\n",
    "#\n",
    "#previous = pd.read_csv('./runs/acc-list-cuda3-2019-07-22-15-02-10-826651-GOOD.csv', header=0, comment='#')\n",
    "#\n",
    "#loss_list = list(previous['loss'])\n",
    "#sy19_test_acc_list = list(previous['sy19_test_acc'])\n",
    "#sy20_test_acc_list = list(previous['sy20_test_acc'])\n",
    "#train_acc_list = list(previous['train_acc'])"
   ]
  },
  {
   "cell_type": "code",
   "execution_count": 39,
   "metadata": {
    "ExecuteTime": {
     "end_time": "2019-11-17T01:51:39.332738Z",
     "start_time": "2019-11-17T01:51:39.330409Z"
    }
   },
   "outputs": [],
   "source": [
    "sy19_test_acc_list = []\n",
    "sy20_test_acc_list = []\n",
    "train_acc_list = []\n",
    "loss_list = []"
   ]
  },
  {
   "cell_type": "code",
   "execution_count": null,
   "metadata": {
    "ExecuteTime": {
     "start_time": "2019-11-17T12:48:07.332Z"
    },
    "scrolled": false
   },
   "outputs": [
    {
     "name": "stdout",
     "output_type": "stream",
     "text": [
      "epoch 1, loss 0.005756, train acc 0.997897, sy19 test acc  0.8354, sy20 test acc  0.9676, time 73.8 sec\n",
      "epoch 2, loss 0.002968, train acc 0.999399, sy19 test acc  0.8468, sy20 test acc  0.9662, time 74.1 sec\n",
      "epoch 3, loss 0.002226, train acc 0.999549, sy19 test acc  0.8470, sy20 test acc  0.9665, time 74.3 sec\n",
      "epoch 4, loss 0.002107, train acc 0.999549, sy19 test acc  0.8404, sy20 test acc  0.9670, time 74.4 sec\n",
      "epoch 5, loss 0.001884, train acc 0.999549, sy19 test acc  0.8423, sy20 test acc  0.9666, time 74.3 sec\n",
      "epoch 6, loss 0.002315, train acc 0.999399, sy19 test acc  0.8558, sy20 test acc  0.9651, time 74.3 sec\n",
      "epoch 7, loss 0.002701, train acc 0.998948, sy19 test acc  0.8472, sy20 test acc  0.9662, time 74.3 sec\n",
      "epoch 8, loss 0.002426, train acc 0.999399, sy19 test acc  0.8299, sy20 test acc  0.9678, time 74.3 sec\n",
      "epoch 9, loss 0.001992, train acc 0.999549, sy19 test acc  0.8405, sy20 test acc  0.9658, time 74.3 sec\n",
      "epoch 10, loss 0.001922, train acc 0.999549, sy19 test acc  0.8290, sy20 test acc  0.9692, time 74.3 sec\n",
      "epoch 11, loss 0.001846, train acc 0.999700, sy19 test acc  0.8362, sy20 test acc  0.9695, time 74.3 sec\n",
      "epoch 12, loss 0.002495, train acc 0.999249, sy19 test acc  0.8248, sy20 test acc  0.9691, time 74.3 sec\n",
      "epoch 13, loss 0.001098, train acc 0.999850, sy19 test acc  0.8361, sy20 test acc  0.9679, time 74.2 sec\n",
      "epoch 14, loss 0.001246, train acc 0.999700, sy19 test acc  0.8404, sy20 test acc  0.9674, time 74.2 sec\n",
      "epoch 15, loss 0.002000, train acc 0.999399, sy19 test acc  0.8406, sy20 test acc  0.9669, time 74.3 sec\n",
      "epoch 16, loss 0.002636, train acc 0.999099, sy19 test acc  0.8427, sy20 test acc  0.9673, time 74.3 sec\n",
      "epoch 17, loss 0.002394, train acc 0.999249, sy19 test acc  0.8294, sy20 test acc  0.9682, time 74.2 sec\n",
      "epoch 18, loss 0.001713, train acc 0.999549, sy19 test acc  0.8450, sy20 test acc  0.9660, time 74.3 sec\n",
      "epoch 19, loss 0.001414, train acc 0.999549, sy19 test acc  0.8379, sy20 test acc  0.9674, time 74.3 sec\n",
      "epoch 22, loss 0.001326, train acc 0.999700, sy19 test acc  0.8363, sy20 test acc  0.9677, time 74.4 sec\n",
      "epoch 23, loss 0.000895, train acc 0.999700, sy19 test acc  0.8380, sy20 test acc  0.9679, time 74.3 sec\n",
      "epoch 24, loss 0.001750, train acc 0.999399, sy19 test acc  0.8409, sy20 test acc  0.9667, time 74.3 sec\n",
      "epoch 25, loss 0.001165, train acc 0.999399, sy19 test acc  0.8316, sy20 test acc  0.9688, time 74.3 sec\n",
      "epoch 26, loss 0.001056, train acc 0.999850, sy19 test acc  0.8338, sy20 test acc  0.9691, time 74.3 sec\n",
      "epoch 27, loss 0.001485, train acc 0.999399, sy19 test acc  0.8364, sy20 test acc  0.9674, time 74.3 sec\n",
      "epoch 28, loss 0.000849, train acc 0.999700, sy19 test acc  0.8379, sy20 test acc  0.9676, time 74.3 sec\n",
      "epoch 29, loss 0.001059, train acc 0.999850, sy19 test acc  0.8406, sy20 test acc  0.9671, time 74.2 sec\n",
      "epoch 30, loss 0.001303, train acc 0.999700, sy19 test acc  0.8517, sy20 test acc  0.9654, time 74.3 sec\n",
      "epoch 31, loss 0.000854, train acc 0.999850, sy19 test acc  0.8495, sy20 test acc  0.9660, time 74.3 sec\n",
      "epoch 32, loss 0.001152, train acc 0.999700, sy19 test acc  0.8468, sy20 test acc  0.9662, time 74.3 sec\n",
      "epoch 33, loss 0.001126, train acc 1.000000, sy19 test acc  0.8444, sy20 test acc  0.9662, time 74.3 sec\n",
      "epoch 34, loss 0.001055, train acc 0.999850, sy19 test acc  0.8470, sy20 test acc  0.9662, time 74.2 sec\n",
      "epoch 35, loss 0.001038, train acc 1.000000, sy19 test acc  0.8448, sy20 test acc  0.9661, time 74.3 sec\n",
      "epoch 36, loss 0.001573, train acc 0.999549, sy19 test acc  0.8294, sy20 test acc  0.9684, time 74.3 sec\n",
      "epoch 37, loss 0.000953, train acc 0.999850, sy19 test acc  0.8360, sy20 test acc  0.9671, time 74.3 sec\n",
      "epoch 38, loss 0.001419, train acc 0.999700, sy19 test acc  0.8360, sy20 test acc  0.9675, time 74.3 sec\n",
      "epoch 39, loss 0.001550, train acc 0.999399, sy19 test acc  0.8380, sy20 test acc  0.9672, time 74.3 sec\n",
      "epoch 40, loss 0.001372, train acc 0.999700, sy19 test acc  0.8383, sy20 test acc  0.9670, time 74.3 sec\n",
      "epoch 41, loss 0.000879, train acc 0.999850, sy19 test acc  0.8518, sy20 test acc  0.9651, time 74.2 sec\n",
      "epoch 42, loss 0.001161, train acc 0.999700, sy19 test acc  0.8434, sy20 test acc  0.9667, time 74.3 sec\n",
      "epoch 43, loss 0.000901, train acc 1.000000, sy19 test acc  0.8353, sy20 test acc  0.9678, time 74.3 sec\n",
      "epoch 44, loss 0.001017, train acc 0.999850, sy19 test acc  0.8474, sy20 test acc  0.9649, time 74.3 sec\n",
      "epoch 45, loss 0.001290, train acc 0.999549, sy19 test acc  0.8420, sy20 test acc  0.9654, time 74.3 sec\n",
      "epoch 46, loss 0.000871, train acc 1.000000, sy19 test acc  0.8493, sy20 test acc  0.9654, time 74.3 sec\n",
      "epoch 47, loss 0.000702, train acc 1.000000, sy19 test acc  0.8430, sy20 test acc  0.9660, time 74.5 sec\n",
      "epoch 48, loss 0.001308, train acc 0.999399, sy19 test acc  0.8337, sy20 test acc  0.9676, time 74.2 sec\n",
      "epoch 49, loss 0.001133, train acc 0.999549, sy19 test acc  0.8320, sy20 test acc  0.9683, time 74.3 sec\n",
      "epoch 50, loss 0.000768, train acc 0.999850, sy19 test acc  0.8429, sy20 test acc  0.9657, time 74.3 sec\n",
      "epoch 51, loss 0.000761, train acc 1.000000, sy19 test acc  0.8471, sy20 test acc  0.9660, time 74.4 sec\n",
      "epoch 52, loss 0.000801, train acc 0.999850, sy19 test acc  0.8429, sy20 test acc  0.9661, time 74.3 sec\n",
      "epoch 53, loss 0.000959, train acc 0.999700, sy19 test acc  0.8386, sy20 test acc  0.9662, time 74.2 sec\n",
      "epoch 54, loss 0.000626, train acc 1.000000, sy19 test acc  0.8446, sy20 test acc  0.9655, time 74.2 sec\n",
      "epoch 55, loss 0.000812, train acc 0.999850, sy19 test acc  0.8451, sy20 test acc  0.9657, time 74.4 sec\n",
      "epoch 56, loss 0.001243, train acc 0.999549, sy19 test acc  0.8447, sy20 test acc  0.9666, time 74.3 sec\n",
      "epoch 57, loss 0.001106, train acc 0.999700, sy19 test acc  0.8452, sy20 test acc  0.9650, time 74.3 sec\n",
      "epoch 58, loss 0.000769, train acc 0.999850, sy19 test acc  0.8356, sy20 test acc  0.9668, time 74.3 sec\n",
      "epoch 59, loss 0.001604, train acc 0.999399, sy19 test acc  0.8358, sy20 test acc  0.9673, time 74.3 sec\n",
      "epoch 60, loss 0.000891, train acc 0.999700, sy19 test acc  0.8357, sy20 test acc  0.9668, time 74.3 sec\n",
      "epoch 61, loss 0.000669, train acc 0.999850, sy19 test acc  0.8362, sy20 test acc  0.9670, time 74.3 sec\n",
      "epoch 62, loss 0.000807, train acc 0.999850, sy19 test acc  0.8404, sy20 test acc  0.9664, time 74.3 sec\n",
      "epoch 63, loss 0.000656, train acc 1.000000, sy19 test acc  0.8376, sy20 test acc  0.9665, time 74.3 sec\n",
      "epoch 64, loss 0.000624, train acc 0.999850, sy19 test acc  0.8384, sy20 test acc  0.9668, time 74.3 sec\n",
      "epoch 65, loss 0.000878, train acc 0.999700, sy19 test acc  0.8339, sy20 test acc  0.9670, time 74.3 sec\n",
      "epoch 66, loss 0.000914, train acc 0.999549, sy19 test acc  0.8293, sy20 test acc  0.9687, time 74.3 sec\n",
      "epoch 67, loss 0.000699, train acc 0.999850, sy19 test acc  0.8335, sy20 test acc  0.9675, time 74.3 sec\n",
      "epoch 68, loss 0.000787, train acc 0.999850, sy19 test acc  0.8342, sy20 test acc  0.9680, time 74.4 sec\n",
      "epoch 69, loss 0.000701, train acc 1.000000, sy19 test acc  0.8386, sy20 test acc  0.9660, time 74.3 sec\n",
      "epoch 72, loss 0.000661, train acc 0.999850, sy19 test acc  0.8385, sy20 test acc  0.9664, time 74.3 sec\n",
      "epoch 73, loss 0.000798, train acc 0.999700, sy19 test acc  0.8381, sy20 test acc  0.9662, time 74.3 sec\n",
      "epoch 74, loss 0.000572, train acc 1.000000, sy19 test acc  0.8364, sy20 test acc  0.9669, time 74.3 sec\n",
      "epoch 75, loss 0.000741, train acc 0.999850, sy19 test acc  0.8385, sy20 test acc  0.9667, time 74.3 sec\n",
      "epoch 76, loss 0.000619, train acc 1.000000, sy19 test acc  0.8362, sy20 test acc  0.9667, time 74.3 sec\n",
      "epoch 77, loss 0.000703, train acc 1.000000, sy19 test acc  0.8358, sy20 test acc  0.9662, time 74.2 sec\n",
      "epoch 78, loss 0.000613, train acc 0.999850, sy19 test acc  0.8339, sy20 test acc  0.9666, time 74.3 sec\n",
      "epoch 79, loss 0.001162, train acc 0.999549, sy19 test acc  0.8315, sy20 test acc  0.9677, time 74.3 sec\n",
      "epoch 80, loss 0.000607, train acc 0.999850, sy19 test acc  0.8333, sy20 test acc  0.9663, time 74.3 sec\n",
      "epoch 81, loss 0.000730, train acc 1.000000, sy19 test acc  0.8382, sy20 test acc  0.9653, time 74.2 sec\n",
      "epoch 82, loss 0.001451, train acc 0.999549, sy19 test acc  0.8331, sy20 test acc  0.9676, time 74.3 sec\n",
      "epoch 83, loss 0.000663, train acc 0.999850, sy19 test acc  0.8433, sy20 test acc  0.9657, time 74.3 sec\n"
     ]
    },
    {
     "name": "stdout",
     "output_type": "stream",
     "text": [
      "epoch 84, loss 0.000662, train acc 1.000000, sy19 test acc  0.8384, sy20 test acc  0.9669, time 74.2 sec\n",
      "epoch 85, loss 0.000706, train acc 0.999850, sy19 test acc  0.8382, sy20 test acc  0.9652, time 74.2 sec\n",
      "epoch 86, loss 0.001178, train acc 0.999549, sy19 test acc  0.8386, sy20 test acc  0.9674, time 74.3 sec\n",
      "epoch 88, loss 0.000505, train acc 1.000000, sy19 test acc  0.8320, sy20 test acc  0.9688, time 74.3 sec\n",
      "epoch 89, loss 0.000757, train acc 0.999850, sy19 test acc  0.8291, sy20 test acc  0.9683, time 74.3 sec\n",
      "epoch 90, loss 0.000532, train acc 1.000000, sy19 test acc  0.8290, sy20 test acc  0.9686, time 74.3 sec\n",
      "epoch 91, loss 0.000651, train acc 0.999850, sy19 test acc  0.8333, sy20 test acc  0.9675, time 74.3 sec\n",
      "epoch 92, loss 0.000430, train acc 1.000000, sy19 test acc  0.8383, sy20 test acc  0.9672, time 74.3 sec\n",
      "epoch 93, loss 0.000543, train acc 1.000000, sy19 test acc  0.8385, sy20 test acc  0.9674, time 74.3 sec\n",
      "epoch 94, loss 0.000572, train acc 0.999850, sy19 test acc  0.8297, sy20 test acc  0.9684, time 74.3 sec\n",
      "epoch 95, loss 0.000771, train acc 0.999549, sy19 test acc  0.8288, sy20 test acc  0.9687, time 74.1 sec\n",
      "epoch 96, loss 0.000497, train acc 1.000000, sy19 test acc  0.8363, sy20 test acc  0.9677, time 74.4 sec\n",
      "epoch 97, loss 0.000645, train acc 0.999850, sy19 test acc  0.8311, sy20 test acc  0.9683, time 74.3 sec\n",
      "epoch 98, loss 0.000467, train acc 1.000000, sy19 test acc  0.8405, sy20 test acc  0.9666, time 74.4 sec\n",
      "epoch 99, loss 0.000639, train acc 0.999850, sy19 test acc  0.8382, sy20 test acc  0.9666, time 74.2 sec\n",
      "epoch 100, loss 0.000421, train acc 1.000000, sy19 test acc  0.8380, sy20 test acc  0.9674, time 74.3 sec\n",
      "epoch 101, loss 0.000483, train acc 1.000000, sy19 test acc  0.8358, sy20 test acc  0.9675, time 74.3 sec\n",
      "epoch 102, loss 0.000782, train acc 0.999850, sy19 test acc  0.8358, sy20 test acc  0.9660, time 74.2 sec\n",
      "epoch 103, loss 0.000379, train acc 1.000000, sy19 test acc  0.8384, sy20 test acc  0.9656, time 74.3 sec\n",
      "epoch 104, loss 0.000554, train acc 1.000000, sy19 test acc  0.8384, sy20 test acc  0.9653, time 74.2 sec\n",
      "epoch 105, loss 0.000438, train acc 1.000000, sy19 test acc  0.8382, sy20 test acc  0.9652, time 74.3 sec\n",
      "epoch 106, loss 0.000820, train acc 0.999700, sy19 test acc  0.8404, sy20 test acc  0.9664, time 74.4 sec\n",
      "epoch 107, loss 0.000695, train acc 0.999850, sy19 test acc  0.8335, sy20 test acc  0.9671, time 74.3 sec\n",
      "epoch 108, loss 0.000724, train acc 0.999850, sy19 test acc  0.8424, sy20 test acc  0.9643, time 74.3 sec\n",
      "epoch 109, loss 0.000567, train acc 0.999850, sy19 test acc  0.8407, sy20 test acc  0.9643, time 74.3 sec\n",
      "epoch 110, loss 0.000521, train acc 1.000000, sy19 test acc  0.8407, sy20 test acc  0.9656, time 74.3 sec\n",
      "epoch 111, loss 0.000660, train acc 0.999850, sy19 test acc  0.8407, sy20 test acc  0.9659, time 74.2 sec\n",
      "epoch 112, loss 0.000644, train acc 1.000000, sy19 test acc  0.8336, sy20 test acc  0.9673, time 74.4 sec\n",
      "epoch 113, loss 0.000530, train acc 1.000000, sy19 test acc  0.8271, sy20 test acc  0.9683, time 74.4 sec\n",
      "epoch 114, loss 0.000792, train acc 0.999700, sy19 test acc  0.8315, sy20 test acc  0.9675, time 74.3 sec\n",
      "epoch 115, loss 0.000504, train acc 1.000000, sy19 test acc  0.8409, sy20 test acc  0.9668, time 74.3 sec\n",
      "epoch 116, loss 0.000703, train acc 0.999700, sy19 test acc  0.8409, sy20 test acc  0.9658, time 74.3 sec\n",
      "epoch 117, loss 0.001262, train acc 0.999399, sy19 test acc  0.8265, sy20 test acc  0.9683, time 74.3 sec\n",
      "epoch 118, loss 0.000482, train acc 1.000000, sy19 test acc  0.8270, sy20 test acc  0.9677, time 74.3 sec\n",
      "epoch 119, loss 0.000577, train acc 0.999850, sy19 test acc  0.8410, sy20 test acc  0.9663, time 74.2 sec\n",
      "epoch 120, loss 0.000543, train acc 1.000000, sy19 test acc  0.8518, sy20 test acc  0.9662, time 74.3 sec\n",
      "epoch 121, loss 0.000443, train acc 1.000000, sy19 test acc  0.8493, sy20 test acc  0.9655, time 74.4 sec\n",
      "epoch 122, loss 0.000413, train acc 1.000000, sy19 test acc  0.8357, sy20 test acc  0.9674, time 74.3 sec\n",
      "epoch 123, loss 0.000424, train acc 0.999850, sy19 test acc  0.8366, sy20 test acc  0.9665, time 74.3 sec\n",
      "epoch 124, loss 0.000748, train acc 0.999700, sy19 test acc  0.8358, sy20 test acc  0.9679, time 74.4 sec\n",
      "epoch 125, loss 0.000417, train acc 1.000000, sy19 test acc  0.8382, sy20 test acc  0.9672, time 74.3 sec\n",
      "epoch 126, loss 0.000334, train acc 1.000000, sy19 test acc  0.8383, sy20 test acc  0.9679, time 74.3 sec\n",
      "epoch 127, loss 0.000390, train acc 1.000000, sy19 test acc  0.8356, sy20 test acc  0.9683, time 74.3 sec\n",
      "epoch 128, loss 0.000597, train acc 0.999850, sy19 test acc  0.8379, sy20 test acc  0.9680, time 74.4 sec\n",
      "epoch 129, loss 0.000645, train acc 0.999850, sy19 test acc  0.8384, sy20 test acc  0.9678, time 74.3 sec\n",
      "epoch 130, loss 0.000411, train acc 0.999850, sy19 test acc  0.8407, sy20 test acc  0.9670, time 74.3 sec\n",
      "epoch 131, loss 0.000364, train acc 1.000000, sy19 test acc  0.8362, sy20 test acc  0.9677, time 74.3 sec\n",
      "epoch 132, loss 0.000322, train acc 1.000000, sy19 test acc  0.8360, sy20 test acc  0.9681, time 74.3 sec\n",
      "epoch 133, loss 0.000547, train acc 1.000000, sy19 test acc  0.8362, sy20 test acc  0.9687, time 74.3 sec\n",
      "epoch 134, loss 0.000420, train acc 1.000000, sy19 test acc  0.8357, sy20 test acc  0.9684, time 74.3 sec\n",
      "epoch 135, loss 0.000559, train acc 0.999850, sy19 test acc  0.8380, sy20 test acc  0.9667, time 74.2 sec\n",
      "epoch 136, loss 0.000445, train acc 1.000000, sy19 test acc  0.8381, sy20 test acc  0.9669, time 74.4 sec\n",
      "epoch 137, loss 0.000482, train acc 1.000000, sy19 test acc  0.8330, sy20 test acc  0.9682, time 74.3 sec\n",
      "epoch 138, loss 0.000664, train acc 0.999850, sy19 test acc  0.8271, sy20 test acc  0.9692, time 74.3 sec\n",
      "epoch 139, loss 0.001079, train acc 1.000000, sy19 test acc  0.8317, sy20 test acc  0.9679, time 74.3 sec\n",
      "epoch 140, loss 0.000296, train acc 1.000000, sy19 test acc  0.8430, sy20 test acc  0.9670, time 74.3 sec\n",
      "epoch 141, loss 0.000491, train acc 1.000000, sy19 test acc  0.8450, sy20 test acc  0.9663, time 74.3 sec\n",
      "epoch 167, loss 0.000400, train acc 1.000000, sy19 test acc  0.8358, sy20 test acc  0.9682, time 74.3 sec\n",
      "epoch 168, loss 0.000330, train acc 1.000000, sy19 test acc  0.8268, sy20 test acc  0.9688, time 74.8 sec\n",
      "epoch 169, loss 0.000408, train acc 1.000000, sy19 test acc  0.8336, sy20 test acc  0.9675, time 75.1 sec\n",
      "epoch 170, loss 0.000237, train acc 1.000000, sy19 test acc  0.8361, sy20 test acc  0.9675, time 75.2 sec\n",
      "epoch 171, loss 0.000381, train acc 0.999850, sy19 test acc  0.8434, sy20 test acc  0.9674, time 74.8 sec\n",
      "epoch 172, loss 0.000265, train acc 1.000000, sy19 test acc  0.8409, sy20 test acc  0.9678, time 74.8 sec\n",
      "epoch 173, loss 0.000473, train acc 0.999850, sy19 test acc  0.8364, sy20 test acc  0.9680, time 74.8 sec\n",
      "epoch 174, loss 0.000355, train acc 1.000000, sy19 test acc  0.8402, sy20 test acc  0.9670, time 74.9 sec\n",
      "epoch 175, loss 0.000470, train acc 0.999850, sy19 test acc  0.8312, sy20 test acc  0.9682, time 74.9 sec\n",
      "epoch 176, loss 0.000462, train acc 0.999850, sy19 test acc  0.8404, sy20 test acc  0.9666, time 75.3 sec\n",
      "epoch 177, loss 0.000433, train acc 1.000000, sy19 test acc  0.8343, sy20 test acc  0.9684, time 75.2 sec\n",
      "epoch 178, loss 0.000479, train acc 1.000000, sy19 test acc  0.8271, sy20 test acc  0.9695, time 74.8 sec\n",
      "epoch 179, loss 0.000238, train acc 1.000000, sy19 test acc  0.8265, sy20 test acc  0.9693, time 74.8 sec\n",
      "epoch 180, loss 0.000225, train acc 1.000000, sy19 test acc  0.8271, sy20 test acc  0.9698, time 75.1 sec\n",
      "epoch 181, loss 0.000325, train acc 1.000000, sy19 test acc  0.8342, sy20 test acc  0.9689, time 75.1 sec\n",
      "epoch 182, loss 0.000278, train acc 1.000000, sy19 test acc  0.8293, sy20 test acc  0.9699, time 75.2 sec\n",
      "epoch 183, loss 0.000339, train acc 0.999850, sy19 test acc  0.8269, sy20 test acc  0.9697, time 74.9 sec\n",
      "epoch 184, loss 0.000395, train acc 0.999850, sy19 test acc  0.8316, sy20 test acc  0.9693, time 74.9 sec\n",
      "epoch 185, loss 0.000300, train acc 1.000000, sy19 test acc  0.8337, sy20 test acc  0.9682, time 75.0 sec\n",
      "epoch 186, loss 0.000331, train acc 0.999850, sy19 test acc  0.8379, sy20 test acc  0.9663, time 75.1 sec\n",
      "epoch 187, loss 0.000392, train acc 1.000000, sy19 test acc  0.8405, sy20 test acc  0.9653, time 74.9 sec\n"
     ]
    },
    {
     "name": "stdout",
     "output_type": "stream",
     "text": [
      "epoch 188, loss 0.000482, train acc 0.999850, sy19 test acc  0.8425, sy20 test acc  0.9651, time 75.2 sec\n",
      "epoch 189, loss 0.000240, train acc 1.000000, sy19 test acc  0.8469, sy20 test acc  0.9650, time 75.3 sec\n",
      "epoch 190, loss 0.000313, train acc 1.000000, sy19 test acc  0.8405, sy20 test acc  0.9676, time 75.0 sec\n",
      "epoch 192, loss 0.000331, train acc 1.000000, sy19 test acc  0.8406, sy20 test acc  0.9687, time 75.4 sec\n",
      "epoch 193, loss 0.000333, train acc 1.000000, sy19 test acc  0.8401, sy20 test acc  0.9665, time 75.2 sec\n",
      "epoch 194, loss 0.000493, train acc 0.999850, sy19 test acc  0.8318, sy20 test acc  0.9686, time 75.5 sec\n",
      "epoch 195, loss 0.000303, train acc 1.000000, sy19 test acc  0.8362, sy20 test acc  0.9670, time 74.9 sec\n",
      "epoch 196, loss 0.000355, train acc 1.000000, sy19 test acc  0.8402, sy20 test acc  0.9655, time 74.9 sec\n",
      "epoch 197, loss 0.000279, train acc 1.000000, sy19 test acc  0.8427, sy20 test acc  0.9656, time 75.3 sec\n",
      "epoch 198, loss 0.000353, train acc 0.999850, sy19 test acc  0.8540, sy20 test acc  0.9649, time 75.1 sec\n",
      "epoch 199, loss 0.000325, train acc 1.000000, sy19 test acc  0.8427, sy20 test acc  0.9656, time 74.9 sec\n",
      "epoch 200, loss 0.000473, train acc 0.999850, sy19 test acc  0.8381, sy20 test acc  0.9667, time 75.5 sec\n",
      "epoch 201, loss 0.000327, train acc 0.999850, sy19 test acc  0.8362, sy20 test acc  0.9668, time 75.2 sec\n",
      "epoch 202, loss 0.000415, train acc 1.000000, sy19 test acc  0.8341, sy20 test acc  0.9677, time 74.8 sec\n",
      "epoch 203, loss 0.000380, train acc 1.000000, sy19 test acc  0.8364, sy20 test acc  0.9672, time 75.1 sec\n",
      "epoch 204, loss 0.000205, train acc 1.000000, sy19 test acc  0.8407, sy20 test acc  0.9664, time 75.3 sec\n",
      "epoch 205, loss 0.000185, train acc 1.000000, sy19 test acc  0.8405, sy20 test acc  0.9657, time 75.5 sec\n",
      "epoch 206, loss 0.000371, train acc 1.000000, sy19 test acc  0.8358, sy20 test acc  0.9663, time 75.3 sec\n",
      "epoch 207, loss 0.000350, train acc 1.000000, sy19 test acc  0.8404, sy20 test acc  0.9656, time 75.3 sec\n",
      "epoch 208, loss 0.000308, train acc 1.000000, sy19 test acc  0.8407, sy20 test acc  0.9673, time 75.2 sec\n",
      "epoch 209, loss 0.000345, train acc 1.000000, sy19 test acc  0.8361, sy20 test acc  0.9681, time 75.3 sec\n",
      "epoch 210, loss 0.000238, train acc 1.000000, sy19 test acc  0.8388, sy20 test acc  0.9681, time 75.1 sec\n",
      "epoch 211, loss 0.000433, train acc 1.000000, sy19 test acc  0.8341, sy20 test acc  0.9680, time 75.2 sec\n",
      "epoch 212, loss 0.000359, train acc 1.000000, sy19 test acc  0.8335, sy20 test acc  0.9676, time 75.4 sec\n",
      "epoch 213, loss 0.000250, train acc 1.000000, sy19 test acc  0.8335, sy20 test acc  0.9675, time 75.3 sec\n",
      "epoch 214, loss 0.000480, train acc 1.000000, sy19 test acc  0.8383, sy20 test acc  0.9672, time 75.4 sec\n",
      "epoch 215, loss 0.000242, train acc 1.000000, sy19 test acc  0.8384, sy20 test acc  0.9683, time 75.2 sec\n",
      "epoch 216, loss 0.000190, train acc 1.000000, sy19 test acc  0.8379, sy20 test acc  0.9681, time 75.3 sec\n",
      "epoch 217, loss 0.000250, train acc 1.000000, sy19 test acc  0.8380, sy20 test acc  0.9684, time 75.4 sec\n",
      "epoch 218, loss 0.000316, train acc 1.000000, sy19 test acc  0.8382, sy20 test acc  0.9675, time 75.3 sec\n",
      "epoch 219, loss 0.000222, train acc 1.000000, sy19 test acc  0.8385, sy20 test acc  0.9682, time 75.2 sec\n",
      "epoch 220, loss 0.000300, train acc 1.000000, sy19 test acc  0.8338, sy20 test acc  0.9691, time 75.4 sec\n",
      "epoch 221, loss 0.000312, train acc 0.999850, sy19 test acc  0.8267, sy20 test acc  0.9697, time 75.5 sec\n",
      "epoch 222, loss 0.000202, train acc 1.000000, sy19 test acc  0.8270, sy20 test acc  0.9697, time 75.3 sec\n",
      "epoch 223, loss 0.000158, train acc 1.000000, sy19 test acc  0.8248, sy20 test acc  0.9695, time 75.6 sec\n",
      "epoch 224, loss 0.000164, train acc 1.000000, sy19 test acc  0.8268, sy20 test acc  0.9697, time 74.0 sec\n",
      "epoch 225, loss 0.000201, train acc 1.000000, sy19 test acc  0.8290, sy20 test acc  0.9694, time 74.0 sec\n",
      "epoch 226, loss 0.000389, train acc 0.999850, sy19 test acc  0.8286, sy20 test acc  0.9695, time 74.0 sec\n",
      "epoch 227, loss 0.000261, train acc 1.000000, sy19 test acc  0.8338, sy20 test acc  0.9692, time 74.0 sec\n",
      "epoch 228, loss 0.000229, train acc 1.000000, sy19 test acc  0.8337, sy20 test acc  0.9691, time 73.9 sec\n",
      "epoch 229, loss 0.000211, train acc 1.000000, sy19 test acc  0.8319, sy20 test acc  0.9693, time 73.9 sec\n",
      "epoch 230, loss 0.000511, train acc 0.999850, sy19 test acc  0.8358, sy20 test acc  0.9688, time 73.9 sec\n",
      "epoch 231, loss 0.000438, train acc 0.999850, sy19 test acc  0.8382, sy20 test acc  0.9674, time 73.9 sec\n",
      "epoch 232, loss 0.000268, train acc 1.000000, sy19 test acc  0.8358, sy20 test acc  0.9677, time 73.9 sec\n",
      "epoch 233, loss 0.000327, train acc 1.000000, sy19 test acc  0.8317, sy20 test acc  0.9680, time 73.9 sec\n",
      "epoch 234, loss 0.000467, train acc 0.999850, sy19 test acc  0.8268, sy20 test acc  0.9697, time 73.9 sec\n",
      "epoch 235, loss 0.000268, train acc 1.000000, sy19 test acc  0.8276, sy20 test acc  0.9691, time 74.0 sec\n",
      "epoch 236, loss 0.000355, train acc 0.999850, sy19 test acc  0.8383, sy20 test acc  0.9670, time 73.9 sec\n",
      "epoch 237, loss 0.000225, train acc 1.000000, sy19 test acc  0.8365, sy20 test acc  0.9675, time 74.0 sec\n",
      "epoch 238, loss 0.000175, train acc 1.000000, sy19 test acc  0.8365, sy20 test acc  0.9674, time 73.9 sec\n"
     ]
    }
   ],
   "source": [
    "for epoch in range(num_epochs):\n",
    "    net.train() \n",
    "    start = time.time()\n",
    "    train_l_sum = 0.\n",
    "    train_acc_sum = 0.\n",
    "    for (index, img, label) in train_iter:\n",
    "        img = img.view(-1,1,3301)\n",
    "        if use_gpu:\n",
    "            index, img, label = index.to(device), img.to(device), label.to(device)\n",
    "        optimizer.zero_grad()\n",
    "        predict = net(img)\n",
    "        l = loss(predict, label.view(-1))\n",
    "        l.backward()\n",
    "        optimizer.step()\n",
    "        train_l_sum += l.data.item()\n",
    "        train_acc_sum += accuracy(predict, label.view(-1))\n",
    "        #print(l)\n",
    "    \n",
    "    if ((epoch+1)%1 ==0):\n",
    "        net.eval() \n",
    "        sy19_test_iter = DataLoader(sy19_dataset_test, batch_size=batch_size, shuffle=True, num_workers=4)\n",
    "        sy19_test_acc = evaluate_accuracy(sy19_test_iter, net, device)\n",
    "        sy20_test_iter = DataLoader(sy20_dataset_test, batch_size=batch_size, shuffle=True, num_workers=4)\n",
    "        sy20_test_acc = evaluate_accuracy(sy20_test_iter, net, device)\n",
    "        \n",
    "        print('epoch %d, loss %.6f, train acc %.6f, sy19 test acc  %.4f, sy20 test acc  %.4f, '\n",
    "                'time %.1f sec' % (epoch + 1, train_l_sum / len(train_iter),\n",
    "                                    train_acc_sum / len(train_iter),\n",
    "                                    sy19_test_acc, sy20_test_acc, time.time() - start))\n",
    "        sy19_test_acc_list.append(sy19_test_acc)\n",
    "        sy20_test_acc_list.append(sy20_test_acc)\n",
    "        loss_list.append(train_l_sum / len(train_iter))\n",
    "        train_acc_list.append(train_acc_sum / len(train_iter))"
   ]
  },
  {
   "cell_type": "code",
   "execution_count": null,
   "metadata": {
    "ExecuteTime": {
     "end_time": "2019-11-17T18:05:28.550114Z",
     "start_time": "2019-11-17T18:05:26.204558Z"
    }
   },
   "outputs": [],
   "source": [
    "## save results\n",
    "acc_lists = pd.DataFrame({'loss': loss_list, 'train_acc':train_acc_list, 'sy19_test_acc': sy19_test_acc_list, 'sy20_test_acc': sy20_test_acc_list})\n",
    "acc_lists_filename = 'acc-list-cuda0-'+str(datetime.datetime.now()).replace(' ','-').replace(':','-').replace('.','-')+'.csv'\n",
    "acc_lists.to_csv('./runs/'+acc_lists_filename)\n",
    "print(acc_lists_filename)\n",
    "\n",
    "model_filename = './runs/'+'model-cuda0-'+str(datetime.datetime.now()).replace(' ','-').replace(':','-').replace('.','-')+'.pt'\n",
    "torch.save(net.state_dict(), 'model_filename')"
   ]
  },
  {
   "cell_type": "code",
   "execution_count": null,
   "metadata": {},
   "outputs": [],
   "source": []
  },
  {
   "cell_type": "code",
   "execution_count": null,
   "metadata": {
    "ExecuteTime": {
     "end_time": "2019-11-17T15:09:27.416861Z",
     "start_time": "2019-11-17T15:09:26.871715Z"
    }
   },
   "outputs": [],
   "source": [
    "epoches = np.linspace(1,len(loss_list),len(loss_list))\n",
    "plt.plot(epoches, train_acc_list, '-', linewidth=1,label='Train Accuracy: Total')\n",
    "plt.plot(epoches, sy19_test_acc_list, '-', linewidth=1,label='Test Accuracy: Seyfert 1.9')\n",
    "plt.plot(epoches, sy20_test_acc_list, '-', linewidth=1,label='Test Accuracy: Seyfert 2.0')\n",
    "plt.plot(epoches, loss_list,'-', linewidth=1,label='Train Loss')\n",
    "\n",
    "\n",
    "plt.axhline(y=1.0,color='grey',linestyle='solid',linewidth=0.5, alpha=0.5, label='')\n",
    "plt.axhline(y=0.965,color='green',linestyle='dashed',linewidth=0.5,  label='Accuracy: 96.5%')\n",
    "plt.axhline(y=0.89,color='orange',linestyle='dashed',linewidth=0.5,  label='Accuracy: 89%')\n",
    "plt.axhline(y=0,color='grey',linestyle='solid',linewidth=0.5,  alpha=0.5, label='')\n",
    "\n",
    "plt.legend()\n",
    "plt.xlabel('Epoch')\n",
    "plt.ylabel('Accuracy & Loss')\n",
    "\n",
    "plt.xlim(-10,280)\n",
    "plt.ylim(-0.02,1.05)"
   ]
  },
  {
   "cell_type": "code",
   "execution_count": null,
   "metadata": {},
   "outputs": [],
   "source": [
    "plt.semilogy(epoches, loss_list,label='loss')\n",
    "plt.legend()"
   ]
  },
  {
   "cell_type": "code",
   "execution_count": null,
   "metadata": {},
   "outputs": [],
   "source": [
    "acc_lists"
   ]
  },
  {
   "cell_type": "code",
   "execution_count": null,
   "metadata": {},
   "outputs": [],
   "source": []
  }
 ],
 "metadata": {
  "kernelspec": {
   "display_name": "Python 3",
   "language": "python",
   "name": "python3"
  },
  "toc": {
   "base_numbering": 1,
   "nav_menu": {},
   "number_sections": true,
   "sideBar": true,
   "skip_h1_title": false,
   "title_cell": "Table of Contents",
   "title_sidebar": "Contents",
   "toc_cell": false,
   "toc_position": {},
   "toc_section_display": true,
   "toc_window_display": false
  },
  "varInspector": {
   "cols": {
    "lenName": 16,
    "lenType": 16,
    "lenVar": 40
   },
   "kernels_config": {
    "python": {
     "delete_cmd_postfix": "",
     "delete_cmd_prefix": "del ",
     "library": "var_list.py",
     "varRefreshCmd": "print(var_dic_list())"
    },
    "r": {
     "delete_cmd_postfix": ") ",
     "delete_cmd_prefix": "rm(",
     "library": "var_list.r",
     "varRefreshCmd": "cat(var_dic_list()) "
    }
   },
   "types_to_exclude": [
    "module",
    "function",
    "builtin_function_or_method",
    "instance",
    "_Feature"
   ],
   "window_display": false
  }
 },
 "nbformat": 4,
 "nbformat_minor": 2
}
