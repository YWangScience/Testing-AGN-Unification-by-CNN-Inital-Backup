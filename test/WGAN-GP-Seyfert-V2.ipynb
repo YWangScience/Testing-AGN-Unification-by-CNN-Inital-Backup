{
 "cells": [
  {
   "cell_type": "markdown",
   "metadata": {},
   "source": [
    "# WGAN-GP"
   ]
  },
  {
   "cell_type": "code",
   "execution_count": 1,
   "metadata": {
    "ExecuteTime": {
     "end_time": "2019-11-17T23:30:45.069025Z",
     "start_time": "2019-11-17T23:30:43.867052Z"
    }
   },
   "outputs": [],
   "source": [
    "import torch\n",
    "from torch import nn, optim, autograd\n",
    "import torch.nn.functional as F\n",
    "import time\n",
    "import os\n",
    "import datetime\n",
    "import glob\n",
    "import csv\n",
    "\n",
    "import torchvision\n",
    "from torch.utils.data import DataLoader, TensorDataset, ConcatDataset, random_split\n",
    "from torchvision import transforms\n",
    "from torchvision.datasets import DatasetFolder\n",
    "\n",
    "import pandas as pd\n",
    "import seaborn as sns\n",
    "\n",
    "from numpy import genfromtxt\n",
    "\n",
    "import numpy as np\n",
    "import matplotlib.pyplot as plt\n",
    "%matplotlib inline"
   ]
  },
  {
   "cell_type": "markdown",
   "metadata": {},
   "source": [
    "### Hyper-parameters"
   ]
  },
  {
   "cell_type": "code",
   "execution_count": 2,
   "metadata": {
    "ExecuteTime": {
     "end_time": "2019-11-17T23:30:47.536027Z",
     "start_time": "2019-11-17T23:30:47.531042Z"
    }
   },
   "outputs": [],
   "source": [
    "latent_dim = 128\n",
    "dim = 32\n",
    "img_size = 3680\n",
    "num_epochs = 50\n",
    "batch_size = 32\n",
    "num_workers = 4\n",
    "\n",
    "PATH = './data/train'\n",
    "IMG_EXTENSIONS = ('.jpg', '.jpeg', '.png', '.ppm', '.bmp', '.pgm', '.tif', '.tiff', '.webp')\n",
    "DATA_EXTENSIONS = ('.csv','.txt')"
   ]
  },
  {
   "cell_type": "markdown",
   "metadata": {},
   "source": [
    "### Check GPU"
   ]
  },
  {
   "cell_type": "code",
   "execution_count": 3,
   "metadata": {
    "ExecuteTime": {
     "end_time": "2019-11-17T23:30:50.964619Z",
     "start_time": "2019-11-17T23:30:50.871374Z"
    }
   },
   "outputs": [
    {
     "name": "stdout",
     "output_type": "stream",
     "text": [
      "USE GPU\n"
     ]
    }
   ],
   "source": [
    "use_gpu = torch.cuda.is_available()\n",
    "#device_ids = [0,1,2,3,4,5,6]\n",
    "\n",
    "if use_gpu:\n",
    "    #net = nn.DataParallel(net, device_ids=device_ids)\n",
    "    device = torch.device('cuda:3')\n",
    "    print ('USE GPU')\n",
    "else:\n",
    "    device = torch.device('cpu')\n",
    "    print ('USE CPU')"
   ]
  },
  {
   "cell_type": "markdown",
   "metadata": {},
   "source": [
    "### Define Functions"
   ]
  },
  {
   "cell_type": "code",
   "execution_count": 4,
   "metadata": {
    "ExecuteTime": {
     "end_time": "2019-11-17T23:30:53.448067Z",
     "start_time": "2019-11-17T23:30:53.437775Z"
    }
   },
   "outputs": [],
   "source": [
    "def plotSpec(seyfert,n):\n",
    "    if seyfert == 1.9:\n",
    "        plt.plot(np.linspace(3800,7500,7500-3800+1), sy19_feature[n].tolist())\n",
    "    if seyfert == 2:\n",
    "        plt.plot(np.linspace(3800,7500,7500-3800+1), sy2_feature[n].tolist())\n",
    "        \n",
    "def plotCurve(grid):\n",
    "    grid = grid.cpu().detach().numpy()\n",
    "    grid[grid == 0] = None\n",
    "    plt.figure(figsize=(12,4))\n",
    "    plt.plot(np.linspace(3800,7479,3680),grid,'.-',linewidth=0.5,markersize=2)\n",
    "    plt.xlabel('Wavelength (A)')\n",
    "    plt.ylabel('Flux')\n",
    "        \n",
    "def sizeMap(inputSize):\n",
    "    C1 = (inputSize-50)+1\n",
    "    S2 = int(C1/2)\n",
    "    C3 = (S2-50)+1\n",
    "    S4 = int(C3/2)\n",
    "    return C1, S2, C3, S4\n",
    "\n",
    "\n",
    "def read_data(filename, delimiter=','):\n",
    "    with open(filename, 'r') as my_file:\n",
    "        reader = csv.reader(my_file, delimiter=delimiter)\n",
    "        my_list = list(reader)[0]\n",
    "        my_list= [float(i) for i in my_list]\n",
    "        return my_list\n",
    "\n",
    "def load_dataset():\n",
    "    train_dataset = DatasetFolder(\n",
    "        loader = read_data,\n",
    "        extensions = DATA_EXTENSIONS,\n",
    "        root=PATH,\n",
    "        #transform=transforms.ToTensor()\n",
    "    )\n",
    "    train_loader = DataLoader(\n",
    "        train_dataset,\n",
    "        batch_size=batch_size,\n",
    "        num_workers=num_workers,\n",
    "        shuffle=True\n",
    "    )\n",
    "    return train_loader"
   ]
  },
  {
   "cell_type": "markdown",
   "metadata": {},
   "source": [
    "## read data"
   ]
  },
  {
   "cell_type": "code",
   "execution_count": 5,
   "metadata": {},
   "outputs": [],
   "source": [
    "# The feature size is 1x(7500-3800+1), a pixel to one wavelenght\n",
    "# merge data in previouly defined in different files\n",
    "sy19_feature_1 = read_data('sy19-pixels-3800-7500-redshifted-normalized.csv', delimiter=',')\n",
    "sy19_feature_2 = read_data('sy19-test-pixels-3800-7500-redshifted-normalized.csv', delimiter=',')\n",
    "sy20_feature_1 = read_data('sy20-pixels-3800-7500-redshifted-normalized.csv', delimiter=',')\n",
    "sy20_feature_2 = read_data('sy20-test-pixels-3800-7500-redshifted-normalized.0.csv', delimiter=',')\n",
    "sy20_feature_3 = read_data('sy20-test-pixels-3800-7500-redshifted-normalized.1.csv', delimiter=',')\n",
    "sy20_feature_4 = read_data('sy20-test-pixels-3800-7500-redshifted-normalized.2.csv', delimiter=',')\n",
    "sy20_feature_5 = read_data('sy20-test-pixels-3800-7500-redshifted-normalized.3.csv', delimiter=',')\n",
    "sy20_feature_6 = read_data('sy20-test-pixels-3800-7500-redshifted-normalized.4.csv', delimiter=',')\n",
    "sy20_feature_7 = read_data('sy20-test-pixels-3800-7500-redshifted-normalized.5.csv', delimiter=',')\n",
    "sy20_feature_8 = read_data('sy20-test-pixels-3800-7500-redshifted-normalized.6.csv', delimiter=',')"
   ]
  },
  {
   "cell_type": "code",
   "execution_count": 6,
   "metadata": {},
   "outputs": [],
   "source": [
    "##  Small sample pre-traning\n",
    "#sy19_feature = sy19_feature_1\n",
    "#sy20_feature = sy20_feature_1\n",
    "\n",
    "## Full sample\n",
    "sy19_feature = np.concatenate((sy19_feature_1, sy19_feature_2), axis=0)\n",
    "sy20_feature = np.concatenate((sy20_feature_1, sy20_feature_2,sy20_feature_3,sy20_feature_4,\\\n",
    "                               sy20_feature_5,sy20_feature_6,sy20_feature_7,sy20_feature_8), axis=0)\n",
    "\n",
    "sy19_feature = torch.Tensor(sy19_feature).view(-1,7500-3800+1)[:,:3680]\n",
    "sy20_feature = torch.Tensor(sy20_feature).view(-1,7500-3800+1)[:,:3680]"
   ]
  },
  {
   "cell_type": "code",
   "execution_count": 7,
   "metadata": {},
   "outputs": [
    {
     "data": {
      "text/plain": [
       "torch.Size([745, 3680])"
      ]
     },
     "execution_count": 7,
     "metadata": {},
     "output_type": "execute_result"
    }
   ],
   "source": [
    "sy19_feature.size()"
   ]
  },
  {
   "cell_type": "code",
   "execution_count": 8,
   "metadata": {},
   "outputs": [
    {
     "name": "stdout",
     "output_type": "stream",
     "text": [
      "745 8400\n"
     ]
    }
   ],
   "source": [
    "print(len(sy19_feature),len(sy20_feature))"
   ]
  },
  {
   "cell_type": "code",
   "execution_count": 9,
   "metadata": {},
   "outputs": [],
   "source": [
    "# classify 1.9 as 1, and 2 as 0. \n",
    "sy19_label = torch.ones(sy19_feature.size(0),dtype=torch.long)\n",
    "sy20_label = torch.zeros(sy20_feature.size(0),dtype=torch.long)\n",
    "\n",
    "sy19_dataset = TensorDataset(sy19_feature,sy19_label)\n",
    "sy20_dataset = TensorDataset(sy20_feature,sy20_label)"
   ]
  },
  {
   "cell_type": "code",
   "execution_count": 10,
   "metadata": {},
   "outputs": [],
   "source": [
    "sy19_dataloader = DataLoader(sy19_dataset, batch_size=batch_size, shuffle=True, num_workers=4)\n",
    "sy20_dataloader = DataLoader(sy20_dataset, batch_size=batch_size, shuffle=True, num_workers=4)"
   ]
  },
  {
   "cell_type": "code",
   "execution_count": 11,
   "metadata": {},
   "outputs": [],
   "source": [
    "# release memory\n",
    "\n",
    "del  sy20_feature_1, sy20_feature_2,sy20_feature_3,sy20_feature_4,\n",
    "sy20_feature_5,sy20_feature_6,sy20_feature_7,sy20_feature_8\n",
    "\n",
    "del sy19_dataset, sy20_dataset"
   ]
  },
  {
   "cell_type": "markdown",
   "metadata": {},
   "source": [
    "### Networks"
   ]
  },
  {
   "cell_type": "code",
   "execution_count": 5,
   "metadata": {
    "ExecuteTime": {
     "end_time": "2019-11-17T23:31:06.523007Z",
     "start_time": "2019-11-17T23:31:06.495711Z"
    }
   },
   "outputs": [],
   "source": [
    "class WGANGP():\n",
    "    def __init__(self, generator, discriminator, g_optmizer, d_optimizer, img_size,\n",
    "                 latent_dim, dataset_name, n_critic=10, gamma=10,\n",
    "                 save_every=20, use_gpu=True, logdir=None):\n",
    "\n",
    "        self.G = generator\n",
    "        self.D = discriminator\n",
    "        self.G_opt = g_optmizer\n",
    "        self.D_opt = d_optimizer\n",
    "        self.img_size = img_size\n",
    "        self.latent_dim = latent_dim\n",
    "        self.dataset_name = dataset_name\n",
    "        self.n_critic = n_critic\n",
    "        self.gamma = gamma\n",
    "        self.save_every = save_every\n",
    "        self.use_gpu = use_gpu\n",
    "        #self.writer = SummaryWriter(logdir)\n",
    "        self.steps = 0\n",
    "        self._fixed_z = torch.randn(64)\n",
    "        self.hist = []\n",
    "        self.images = []\n",
    "\n",
    "        if self.use_gpu:\n",
    "            self._fixed_z = self._fixed_z.to(device)\n",
    "            self.G.to(device)\n",
    "            self.D.to(device)\n",
    "\n",
    "    def train(self, data_loader, n_epochs):\n",
    "        #self._save_gif()\n",
    "        for epoch in range(1, n_epochs + 1):\n",
    "            print('Starting epoch {}...'.format(epoch))\n",
    "            g_loss, d_loss, grad_penalty = self._train_epoch(data_loader)\n",
    "\n",
    "            if epoch % self.save_every == 0 or epoch == n_epochs:\n",
    "            #    torch.save(self.G.state_dict(), self.dataset_name + '_gen_{}.pt'.format(epoch))\n",
    "            #    torch.save(self.D.state_dict(), self.dataset_name + '_disc_{}.pt'.format(epoch))\n",
    "                print('epoch {}...'.format(epoch))\n",
    "                print('    g_loss: {:.3f} d_loss: {:.3f} grad_penalty: {:.3f}'.format(g_loss, d_loss, grad_penalty))\n",
    "\n",
    "    def _train_epoch(self, data_loader):\n",
    "        for i, (data, _) in enumerate(data_loader):\n",
    "            self.steps += 1\n",
    "            data = data.view(-1,1,self.img_size)\n",
    "            if self.use_gpu:\n",
    "                data = data.to(device)\n",
    "\n",
    "            d_loss, grad_penalty = self._discriminator_train_step(data)\n",
    "            #self.writer.add_scalars('losses', {'d_loss': d_loss, 'grad_penalty': grad_penalty}, self.steps)\n",
    "            self.hist.append({'d_loss': d_loss, 'grad_penalty': grad_penalty})\n",
    "\n",
    "            #if i % 200 == 0:\n",
    "            #    img_grid = make_grid(self.G(self._fixed_z).cpu().data, normalize=True)\n",
    "            #    self.writer.add_image('images', img_grid, self.steps)\n",
    "\n",
    "            if self.steps % self.n_critic == 0:\n",
    "                g_loss = self._generator_train_step(data.size(0))\n",
    "                #self.writer.add_scalars('losses', {'g_loss': g_loss}, self.steps)\n",
    "                self.hist[-1]['g_loss'] = g_loss\n",
    "        \n",
    "\n",
    "        print('    g_loss: {:.3f} d_loss: {:.3f} grad_penalty: {:.3f}'.format(g_loss, d_loss, grad_penalty))\n",
    "        return g_loss, d_loss, grad_penalty\n",
    "\n",
    "    def _discriminator_train_step(self, data):\n",
    "        batch_size = data.size(0)\n",
    "        generated_data = self._sample(batch_size)\n",
    "        grad_penalty = self._gradient_penalty(data, generated_data)\n",
    "        d_loss = self.D(generated_data).mean() - self.D(data).mean() + grad_penalty\n",
    "        self.D_opt.zero_grad()\n",
    "        d_loss.backward()\n",
    "        self.D_opt.step()\n",
    "        return d_loss.item(), grad_penalty.item()\n",
    "\n",
    "    def _generator_train_step(self, batch_size):\n",
    "        generated_data = self._sample(batch_size)\n",
    "        g_loss = -self.D(generated_data).mean()\n",
    "        self.G_opt.zero_grad()\n",
    "        g_loss.backward()\n",
    "        self.G_opt.step()\n",
    "        return g_loss.item()\n",
    "\n",
    "    def _gradient_penalty(self, data, generated_data, gamma=10):\n",
    "        batch_size = data.size(0)\n",
    "        epsilon = torch.rand(batch_size, 1, 1)\n",
    "        epsilon = epsilon.expand_as(data)\n",
    "\n",
    "        if self.use_gpu:\n",
    "            epsilon = epsilon.to(device)\n",
    "\n",
    "        interpolation = epsilon * data + (1 - epsilon) * generated_data\n",
    "\n",
    "        if self.use_gpu:\n",
    "            interpolation = interpolation.to(device)\n",
    "\n",
    "        interpolation_logits = self.D(interpolation)\n",
    "        grad_outputs = torch.ones(interpolation_logits.size())\n",
    "\n",
    "        if self.use_gpu:\n",
    "            grad_outputs = grad_outputs.to(device)\n",
    "\n",
    "        gradients = autograd.grad(outputs=interpolation_logits,\n",
    "                                  inputs=interpolation,\n",
    "                                  grad_outputs=grad_outputs,\n",
    "                                  create_graph=True,\n",
    "                                  retain_graph=True)[0]\n",
    "\n",
    "        gradients = gradients.view(batch_size, -1)\n",
    "        gradients_norm = torch.sqrt(torch.sum(gradients ** 2, dim=1) + 1e-12)\n",
    "        return self.gamma * ((gradients_norm - 1) ** 2).mean()\n",
    "\n",
    "    def _sample(self, n_samples):\n",
    "        z = torch.randn(n_samples, self.latent_dim)\n",
    "        if self.use_gpu:\n",
    "            z = z.to(device)\n",
    "        return self.G(z)\n",
    "\n",
    "    def _save_gif(self):\n",
    "        grid = make_grid(self.G(self._fixed_z).cpu().data, normalize=True)\n",
    "        grid = np.transpose(grid.numpy(), (1, 2, 0))\n",
    "        self.images.append(grid)\n",
    "        imageio.mimsave('{}.gif'.format(self.dataset_name), self.images)\n"
   ]
  },
  {
   "cell_type": "code",
   "execution_count": 6,
   "metadata": {
    "ExecuteTime": {
     "end_time": "2019-11-17T23:31:12.410301Z",
     "start_time": "2019-11-17T23:31:12.393227Z"
    }
   },
   "outputs": [],
   "source": [
    "## latent -> feature -> image\n",
    "## input: latent (batch_size, latent_dim)\n",
    "## output: image (batch_size, img_size)\n",
    "class Generator(nn.Module):\n",
    "    def __init__(self, latent_dim, image_size, d=32):\n",
    "        super(Generator, self).__init__()\n",
    "        \n",
    "        self.d = d\n",
    "        self.latent_dim = latent_dim\n",
    "        self.img_size = img_size\n",
    "        self.feature_sizes = self.img_size // 16 # 4 convolutions of stride 2\n",
    "\n",
    "        self.latent_to_features = nn.Sequential(\n",
    "            # 4 convolutions of stride 2 -> output size will be 8 * feature_sizes\n",
    "            nn.Linear(self.latent_dim,  self.d * 8 * self.feature_sizes),\n",
    "            nn.ReLU()\n",
    "        )\n",
    "        \n",
    "        self.features_to_image = nn.Sequential(\n",
    "\n",
    "            nn.ConvTranspose1d(self.d * 8, self.d * 4, 4, 2, 1),\n",
    "            nn.BatchNorm1d(self.d * 4),\n",
    "            nn.LeakyReLU(0.2),\n",
    "\n",
    "            nn.ConvTranspose1d(self.d * 4, self.d * 2, 4, 2, 1),\n",
    "            nn.BatchNorm1d(self.d * 2),\n",
    "            nn.LeakyReLU(0.2),\n",
    "            \n",
    "            nn.ConvTranspose1d(self.d * 2, self.d, 4, 2, 1),\n",
    "            nn.BatchNorm1d(self.d),\n",
    "            nn.LeakyReLU(0.2),\n",
    "\n",
    "            nn.ConvTranspose1d(self.d, 1, 4, 2, 1),\n",
    "            nn.Tanh()\n",
    "        )\n",
    "\n",
    "    def forward(self, x):\n",
    "        x = self.latent_to_features(x)\n",
    "        x = x.view(-1, 8 * self.d, self.feature_sizes)\n",
    "        return self.features_to_image(x)\n",
    "\n",
    "## image to feature to scale\n",
    "## input: image (batch_size, img_size)\n",
    "## out: scale (batch_size, 1)\n",
    "class Discriminator(nn.Module):\n",
    "    def __init__(self, img_size, d=32):\n",
    "        super(Discriminator, self).__init__()\n",
    "        \n",
    "        self.d = d\n",
    "        self.img_size = img_size\n",
    "        # 4 convolutions of stride 2 -> output size will be 8 * (img_size / 2^4)\n",
    "        self.output_size = self.d * 8 * self.img_size // 16\n",
    "        \n",
    "        self.image_to_features = nn.Sequential(\n",
    "            nn.Conv1d(1, self.d, 4, 2, 1),\n",
    "            nn.InstanceNorm1d(self.d),\n",
    "            nn.LeakyReLU(0.2),\n",
    "\n",
    "            nn.Conv1d(self.d, self.d * 2, 4, 2, 1),\n",
    "            nn.InstanceNorm1d(self.d * 2),\n",
    "            nn.LeakyReLU(0.2),\n",
    "\n",
    "            nn.Conv1d(self.d * 2, self.d * 4, 4, 2, 1),\n",
    "            nn.InstanceNorm1d(self.d * 4),\n",
    "            nn.LeakyReLU(0.2),\n",
    "\n",
    "            nn.Conv1d(self.d * 4, self.d * 8, 4, 2, 1),\n",
    "        )\n",
    "        \n",
    "        self.features_to_scale = nn.Sequential(\n",
    "            nn.Linear(self.output_size, 1)\n",
    "        )\n",
    "        \n",
    "    def forward(self, x):\n",
    "        batch_size = x.size(0)\n",
    "        #x = x.view(batch_size,1,-1)\n",
    "        x = self.image_to_features(x)\n",
    "        x = x.view(batch_size, -1)\n",
    "        return self.features_to_scale(x)"
   ]
  },
  {
   "cell_type": "markdown",
   "metadata": {},
   "source": [
    "## Main "
   ]
  },
  {
   "cell_type": "code",
   "execution_count": 7,
   "metadata": {
    "ExecuteTime": {
     "end_time": "2019-11-17T23:31:34.752904Z",
     "start_time": "2019-11-17T23:31:27.970870Z"
    }
   },
   "outputs": [],
   "source": [
    "data_loader = sy19_dataloader\n",
    "\n",
    "generator = Generator(latent_dim, img_size)\n",
    "discriminator = Discriminator(img_size)\n",
    "\n",
    "g_optimizer = torch.optim.Adam(generator.parameters(), lr=1e-4, betas=(0.5, 0.9))\n",
    "d_optimizer = torch.optim.Adam(discriminator.parameters(), lr=1e-4, betas=(0.5, 0.9))\n",
    "\n",
    "\n",
    "#learning_rate = 0.0001\n",
    "#g_optimizer = optim.SGD(generator.parameters(), lr=learning_rate, momentum=0.9, weight_decay=0.001)\n",
    "#d_optimizer = optim.SGD(discriminator.parameters(), lr=learning_rate, momentum=0.9, weight_decay=0.001)\n",
    "\n",
    "\n",
    "wgan = WGANGP(generator, discriminator, g_optimizer, d_optimizer, img_size, latent_dim, 'XRT')"
   ]
  },
  {
   "cell_type": "code",
   "execution_count": 131,
   "metadata": {
    "scrolled": false
   },
   "outputs": [
    {
     "name": "stdout",
     "output_type": "stream",
     "text": [
      "Starting epoch 1...\n",
      "    g_loss: 0.237 d_loss: -0.295 grad_penalty: 0.031\n",
      "Starting epoch 2...\n",
      "    g_loss: 0.281 d_loss: -0.410 grad_penalty: 0.033\n",
      "Starting epoch 3...\n",
      "    g_loss: 0.332 d_loss: -0.761 grad_penalty: 0.171\n",
      "Starting epoch 4...\n",
      "    g_loss: 0.553 d_loss: -0.531 grad_penalty: 0.015\n",
      "Starting epoch 5...\n",
      "    g_loss: 0.177 d_loss: -0.547 grad_penalty: 0.024\n",
      "Starting epoch 6...\n",
      "    g_loss: 0.093 d_loss: -0.456 grad_penalty: 0.018\n",
      "Starting epoch 7...\n",
      "    g_loss: 0.402 d_loss: -0.670 grad_penalty: 0.037\n",
      "Starting epoch 8...\n",
      "    g_loss: 0.579 d_loss: -0.491 grad_penalty: 0.039\n",
      "Starting epoch 9...\n",
      "    g_loss: 0.642 d_loss: -0.136 grad_penalty: 0.019\n",
      "Starting epoch 10...\n",
      "    g_loss: 0.714 d_loss: -0.205 grad_penalty: 0.018\n",
      "Starting epoch 11...\n",
      "    g_loss: 0.443 d_loss: -0.738 grad_penalty: 0.020\n",
      "Starting epoch 12...\n",
      "    g_loss: 0.373 d_loss: -0.489 grad_penalty: 0.049\n",
      "Starting epoch 13...\n",
      "    g_loss: 0.601 d_loss: -0.535 grad_penalty: 0.162\n",
      "Starting epoch 14...\n",
      "    g_loss: 0.226 d_loss: -0.601 grad_penalty: 0.025\n",
      "Starting epoch 15...\n",
      "    g_loss: 0.388 d_loss: -0.547 grad_penalty: 0.045\n",
      "Starting epoch 16...\n",
      "    g_loss: 0.131 d_loss: -0.475 grad_penalty: 0.013\n",
      "Starting epoch 17...\n",
      "    g_loss: 0.500 d_loss: -0.523 grad_penalty: 0.041\n",
      "Starting epoch 18...\n",
      "    g_loss: 0.675 d_loss: -0.647 grad_penalty: 0.060\n",
      "Starting epoch 19...\n",
      "    g_loss: 0.409 d_loss: -0.412 grad_penalty: 0.090\n",
      "Starting epoch 20...\n",
      "    g_loss: 0.397 d_loss: -0.491 grad_penalty: 0.065\n",
      "epoch 20...\n",
      "    g_loss: 0.397 d_loss: -0.491 grad_penalty: 0.065\n",
      "Starting epoch 21...\n",
      "    g_loss: 0.183 d_loss: -0.354 grad_penalty: 0.017\n",
      "Starting epoch 22...\n",
      "    g_loss: 0.282 d_loss: -0.460 grad_penalty: 0.026\n",
      "Starting epoch 23...\n",
      "    g_loss: 0.476 d_loss: -0.546 grad_penalty: 0.054\n",
      "Starting epoch 24...\n",
      "    g_loss: 0.235 d_loss: -0.430 grad_penalty: 0.027\n",
      "Starting epoch 25...\n",
      "    g_loss: 0.606 d_loss: -0.744 grad_penalty: 0.047\n",
      "Starting epoch 26...\n",
      "    g_loss: 0.359 d_loss: -0.381 grad_penalty: 0.021\n",
      "Starting epoch 27...\n",
      "    g_loss: 0.522 d_loss: -0.698 grad_penalty: 0.012\n",
      "Starting epoch 28...\n",
      "    g_loss: 0.293 d_loss: -0.422 grad_penalty: 0.072\n",
      "Starting epoch 29...\n",
      "    g_loss: 0.288 d_loss: -0.655 grad_penalty: 0.032\n",
      "Starting epoch 30...\n",
      "    g_loss: 0.356 d_loss: -0.216 grad_penalty: 0.058\n",
      "Starting epoch 31...\n",
      "    g_loss: 0.208 d_loss: -0.601 grad_penalty: 0.013\n",
      "Starting epoch 32...\n",
      "    g_loss: 0.279 d_loss: -0.632 grad_penalty: 0.024\n",
      "Starting epoch 33...\n",
      "    g_loss: 0.477 d_loss: -0.441 grad_penalty: 0.083\n",
      "Starting epoch 34...\n",
      "    g_loss: 0.248 d_loss: -0.717 grad_penalty: 0.026\n",
      "Starting epoch 35...\n",
      "    g_loss: 0.435 d_loss: -0.441 grad_penalty: 0.053\n",
      "Starting epoch 36...\n",
      "    g_loss: 0.215 d_loss: -0.178 grad_penalty: 0.021\n",
      "Starting epoch 37...\n",
      "    g_loss: 0.297 d_loss: -0.663 grad_penalty: 0.028\n",
      "Starting epoch 38...\n",
      "    g_loss: 0.513 d_loss: -0.410 grad_penalty: 0.086\n",
      "Starting epoch 39...\n",
      "    g_loss: 0.578 d_loss: -0.501 grad_penalty: 0.155\n",
      "Starting epoch 40...\n",
      "    g_loss: 0.199 d_loss: -0.481 grad_penalty: 0.060\n",
      "epoch 40...\n",
      "    g_loss: 0.199 d_loss: -0.481 grad_penalty: 0.060\n",
      "Starting epoch 41...\n",
      "    g_loss: 0.285 d_loss: -0.128 grad_penalty: 0.047\n",
      "Starting epoch 42...\n",
      "    g_loss: 0.648 d_loss: -0.539 grad_penalty: 0.008\n",
      "Starting epoch 43...\n",
      "    g_loss: 0.274 d_loss: -0.423 grad_penalty: 0.062\n",
      "Starting epoch 44...\n",
      "    g_loss: 0.292 d_loss: -0.508 grad_penalty: 0.054\n",
      "Starting epoch 45...\n",
      "    g_loss: 0.130 d_loss: -0.679 grad_penalty: 0.022\n",
      "Starting epoch 46...\n",
      "    g_loss: 0.223 d_loss: -0.503 grad_penalty: 0.026\n",
      "Starting epoch 47...\n",
      "    g_loss: 0.444 d_loss: -0.431 grad_penalty: 0.075\n",
      "Starting epoch 48...\n",
      "    g_loss: 0.315 d_loss: -0.516 grad_penalty: 0.009\n",
      "Starting epoch 49...\n",
      "    g_loss: 0.190 d_loss: -0.416 grad_penalty: 0.051\n",
      "Starting epoch 50...\n",
      "    g_loss: 0.471 d_loss: -0.505 grad_penalty: 0.045\n",
      "Starting epoch 51...\n",
      "    g_loss: 0.462 d_loss: -0.580 grad_penalty: 0.002\n",
      "Starting epoch 52...\n",
      "    g_loss: 0.520 d_loss: -0.634 grad_penalty: 0.023\n",
      "Starting epoch 53...\n",
      "    g_loss: 0.230 d_loss: -0.452 grad_penalty: 0.067\n",
      "Starting epoch 54...\n",
      "    g_loss: 0.203 d_loss: -0.606 grad_penalty: 0.228\n",
      "Starting epoch 55...\n",
      "    g_loss: 0.200 d_loss: -0.580 grad_penalty: 0.049\n",
      "Starting epoch 56...\n",
      "    g_loss: 0.190 d_loss: -0.588 grad_penalty: 0.053\n",
      "Starting epoch 57...\n",
      "    g_loss: 0.223 d_loss: -0.440 grad_penalty: 0.039\n",
      "Starting epoch 58...\n",
      "    g_loss: 0.079 d_loss: -0.654 grad_penalty: 0.130\n",
      "Starting epoch 59...\n",
      "    g_loss: 0.228 d_loss: -0.447 grad_penalty: 0.020\n",
      "Starting epoch 60...\n",
      "    g_loss: 0.483 d_loss: -0.524 grad_penalty: 0.065\n",
      "epoch 60...\n",
      "    g_loss: 0.483 d_loss: -0.524 grad_penalty: 0.065\n",
      "Starting epoch 61...\n",
      "    g_loss: 0.327 d_loss: -0.532 grad_penalty: 0.007\n",
      "Starting epoch 62...\n",
      "    g_loss: 0.432 d_loss: -0.738 grad_penalty: 0.021\n",
      "Starting epoch 63...\n",
      "    g_loss: 0.495 d_loss: -0.313 grad_penalty: 0.234\n",
      "Starting epoch 64...\n",
      "    g_loss: 0.469 d_loss: -0.639 grad_penalty: 0.038\n",
      "Starting epoch 65...\n",
      "    g_loss: 0.555 d_loss: -0.402 grad_penalty: 0.027\n",
      "Starting epoch 66...\n",
      "    g_loss: 0.408 d_loss: -0.465 grad_penalty: 0.008\n",
      "Starting epoch 67...\n",
      "    g_loss: 0.377 d_loss: -0.458 grad_penalty: 0.017\n",
      "Starting epoch 68...\n",
      "    g_loss: 0.158 d_loss: -0.347 grad_penalty: 0.082\n",
      "Starting epoch 69...\n",
      "    g_loss: 0.376 d_loss: -0.534 grad_penalty: 0.038\n",
      "Starting epoch 70...\n",
      "    g_loss: 0.170 d_loss: -0.613 grad_penalty: 0.040\n",
      "Starting epoch 71...\n",
      "    g_loss: 0.070 d_loss: -0.378 grad_penalty: 0.022\n",
      "Starting epoch 72...\n",
      "    g_loss: 0.175 d_loss: -0.690 grad_penalty: 0.032\n",
      "Starting epoch 73...\n",
      "    g_loss: 0.235 d_loss: -0.435 grad_penalty: 0.018\n",
      "Starting epoch 74...\n",
      "    g_loss: 0.140 d_loss: -0.650 grad_penalty: 0.023\n",
      "Starting epoch 75...\n",
      "    g_loss: 0.357 d_loss: -0.483 grad_penalty: 0.022\n",
      "Starting epoch 76...\n",
      "    g_loss: 0.477 d_loss: -0.529 grad_penalty: 0.026\n",
      "Starting epoch 77...\n",
      "    g_loss: 0.804 d_loss: -0.671 grad_penalty: 0.039\n",
      "Starting epoch 78...\n",
      "    g_loss: 0.711 d_loss: -0.407 grad_penalty: 0.059\n",
      "Starting epoch 79...\n",
      "    g_loss: 0.422 d_loss: -0.509 grad_penalty: 0.046\n",
      "Starting epoch 80...\n",
      "    g_loss: 0.204 d_loss: -0.671 grad_penalty: 0.034\n",
      "epoch 80...\n",
      "    g_loss: 0.204 d_loss: -0.671 grad_penalty: 0.034\n",
      "Starting epoch 81...\n",
      "    g_loss: 0.284 d_loss: -0.631 grad_penalty: 0.103\n",
      "Starting epoch 82...\n",
      "    g_loss: 0.626 d_loss: -0.558 grad_penalty: 0.037\n",
      "Starting epoch 83...\n",
      "    g_loss: 0.065 d_loss: -0.497 grad_penalty: 0.173\n",
      "Starting epoch 84...\n",
      "    g_loss: 0.449 d_loss: -0.471 grad_penalty: 0.043\n",
      "Starting epoch 85...\n",
      "    g_loss: 0.355 d_loss: -0.669 grad_penalty: 0.052\n",
      "Starting epoch 86...\n",
      "    g_loss: 0.374 d_loss: -0.631 grad_penalty: 0.017\n",
      "Starting epoch 87...\n",
      "    g_loss: 0.392 d_loss: -0.419 grad_penalty: 0.017\n",
      "Starting epoch 88...\n",
      "    g_loss: -0.151 d_loss: -0.488 grad_penalty: 0.064\n",
      "Starting epoch 89...\n",
      "    g_loss: 0.156 d_loss: -0.722 grad_penalty: 0.053\n",
      "Starting epoch 90...\n",
      "    g_loss: 0.373 d_loss: -0.737 grad_penalty: 0.080\n",
      "Starting epoch 91...\n",
      "    g_loss: 0.344 d_loss: -0.554 grad_penalty: 0.013\n",
      "Starting epoch 92...\n",
      "    g_loss: 0.391 d_loss: -0.584 grad_penalty: 0.018\n",
      "Starting epoch 93...\n",
      "    g_loss: 0.256 d_loss: -0.430 grad_penalty: 0.128\n",
      "Starting epoch 94...\n",
      "    g_loss: 0.467 d_loss: -0.759 grad_penalty: 0.013\n",
      "Starting epoch 95...\n",
      "    g_loss: 0.940 d_loss: -0.678 grad_penalty: 0.049\n",
      "Starting epoch 96...\n",
      "    g_loss: 0.479 d_loss: -0.372 grad_penalty: 0.016\n",
      "Starting epoch 97...\n",
      "    g_loss: -0.144 d_loss: -0.526 grad_penalty: 0.010\n",
      "Starting epoch 98...\n",
      "    g_loss: 0.196 d_loss: -0.647 grad_penalty: 0.047\n",
      "Starting epoch 99...\n",
      "    g_loss: 0.343 d_loss: -0.643 grad_penalty: 0.047\n",
      "Starting epoch 100...\n",
      "    g_loss: 0.193 d_loss: -0.528 grad_penalty: 0.011\n",
      "epoch 100...\n",
      "    g_loss: 0.193 d_loss: -0.528 grad_penalty: 0.011\n"
     ]
    }
   ],
   "source": [
    "wgan.train(data_loader, 100)"
   ]
  },
  {
   "cell_type": "markdown",
   "metadata": {},
   "source": [
    "### Result"
   ]
  },
  {
   "cell_type": "code",
   "execution_count": 1,
   "metadata": {
    "ExecuteTime": {
     "end_time": "2019-10-01T14:16:50.251821Z",
     "start_time": "2019-10-01T14:16:50.207364Z"
    },
    "scrolled": false
   },
   "outputs": [
    {
     "ename": "NameError",
     "evalue": "name 'torch' is not defined",
     "output_type": "error",
     "traceback": [
      "\u001b[0;31m---------------------------------------------------------------------------\u001b[0m",
      "\u001b[0;31mNameError\u001b[0m                                 Traceback (most recent call last)",
      "\u001b[0;32m<ipython-input-1-6bdfdc9ae446>\u001b[0m in \u001b[0;36m<module>\u001b[0;34m\u001b[0m\n\u001b[0;32m----> 1\u001b[0;31m \u001b[0mz\u001b[0m \u001b[0;34m=\u001b[0m \u001b[0mtorch\u001b[0m\u001b[0;34m.\u001b[0m\u001b[0mrandn\u001b[0m\u001b[0;34m(\u001b[0m\u001b[0mlatent_dim\u001b[0m\u001b[0;34m)\u001b[0m\u001b[0;34m.\u001b[0m\u001b[0mto\u001b[0m\u001b[0;34m(\u001b[0m\u001b[0mdevice\u001b[0m\u001b[0;34m)\u001b[0m\u001b[0;34m\u001b[0m\u001b[0;34m\u001b[0m\u001b[0m\n\u001b[0m\u001b[1;32m      2\u001b[0m \u001b[0mplotCurve\u001b[0m\u001b[0;34m(\u001b[0m\u001b[0mwgan\u001b[0m\u001b[0;34m.\u001b[0m\u001b[0mG\u001b[0m\u001b[0;34m(\u001b[0m\u001b[0mz\u001b[0m\u001b[0;34m)\u001b[0m\u001b[0;34m.\u001b[0m\u001b[0msqueeze\u001b[0m\u001b[0;34m(\u001b[0m\u001b[0;34m)\u001b[0m\u001b[0;34m)\u001b[0m\u001b[0;34m\u001b[0m\u001b[0;34m\u001b[0m\u001b[0m\n",
      "\u001b[0;31mNameError\u001b[0m: name 'torch' is not defined"
     ]
    }
   ],
   "source": [
    "z = torch.randn(latent_dim).to(device)\n",
    "plotCurve(wgan.G(z).squeeze())"
   ]
  },
  {
   "cell_type": "code",
   "execution_count": null,
   "metadata": {},
   "outputs": [],
   "source": []
  },
  {
   "cell_type": "markdown",
   "metadata": {},
   "source": [
    "## save model"
   ]
  },
  {
   "cell_type": "code",
   "execution_count": 65,
   "metadata": {},
   "outputs": [],
   "source": [
    "torch.save(wgan.G.state_dict(), 'WGAN-GP-Seyfert-1.9-gen.pt')\n",
    "torch.save(wgan.D.state_dict(), 'WGAN-GP-Seyfert-1.9-disc.pt')"
   ]
  },
  {
   "cell_type": "markdown",
   "metadata": {},
   "source": [
    "![caption](figure1_1.gif)"
   ]
  },
  {
   "cell_type": "code",
   "execution_count": null,
   "metadata": {},
   "outputs": [],
   "source": []
  },
  {
   "cell_type": "code",
   "execution_count": 55,
   "metadata": {},
   "outputs": [],
   "source": [
    "data_loader20 = sy20_dataloader\n",
    "\n",
    "generator20 = Generator(latent_dim, img_size)\n",
    "discriminator20 = Discriminator(img_size)\n",
    "\n",
    "g_optimizer20 = torch.optim.Adam(generator20.parameters(), lr=1e-4, betas=(0.5, 0.9))\n",
    "d_optimizer20 = torch.optim.Adam(discriminator20.parameters(), lr=1e-4, betas=(0.5, 0.9))\n",
    "\n",
    "\n",
    "#learning_rate = 0.0001\n",
    "#g_optimizer = optim.SGD(generator.parameters(), lr=learning_rate, momentum=0.9, weight_decay=0.001)\n",
    "#d_optimizer = optim.SGD(discriminator.parameters(), lr=learning_rate, momentum=0.9, weight_decay=0.001)\n",
    "\n",
    "\n",
    "wgan20 = WGANGP(generator20, discriminator20, g_optimizer20, d_optimizer20, img_size, latent_dim, 'XRT')"
   ]
  },
  {
   "cell_type": "code",
   "execution_count": null,
   "metadata": {},
   "outputs": [],
   "source": []
  },
  {
   "cell_type": "code",
   "execution_count": 133,
   "metadata": {
    "scrolled": false
   },
   "outputs": [
    {
     "name": "stdout",
     "output_type": "stream",
     "text": [
      "Starting epoch 1...\n",
      "    g_loss: 0.409 d_loss: -0.620 grad_penalty: 0.054\n",
      "Starting epoch 2...\n",
      "    g_loss: 0.834 d_loss: -0.389 grad_penalty: 0.072\n",
      "Starting epoch 3...\n",
      "    g_loss: 0.559 d_loss: -0.509 grad_penalty: 0.046\n",
      "Starting epoch 4...\n",
      "    g_loss: 0.743 d_loss: -0.406 grad_penalty: 0.081\n",
      "Starting epoch 5...\n",
      "    g_loss: 0.825 d_loss: -0.725 grad_penalty: 0.019\n",
      "Starting epoch 6...\n",
      "    g_loss: 0.727 d_loss: -0.853 grad_penalty: 0.064\n",
      "Starting epoch 7...\n",
      "    g_loss: 0.798 d_loss: -0.446 grad_penalty: 0.059\n",
      "Starting epoch 8...\n",
      "    g_loss: 0.531 d_loss: -0.578 grad_penalty: 0.020\n",
      "Starting epoch 9...\n",
      "    g_loss: 0.512 d_loss: -0.673 grad_penalty: 0.060\n",
      "Starting epoch 10...\n",
      "    g_loss: 0.759 d_loss: -0.615 grad_penalty: 0.061\n",
      "Starting epoch 11...\n",
      "    g_loss: 0.581 d_loss: -0.487 grad_penalty: 0.059\n",
      "Starting epoch 12...\n",
      "    g_loss: 0.480 d_loss: -0.863 grad_penalty: 0.054\n",
      "Starting epoch 13...\n",
      "    g_loss: 0.810 d_loss: -0.303 grad_penalty: 0.032\n",
      "Starting epoch 14...\n",
      "    g_loss: 0.701 d_loss: -0.545 grad_penalty: 0.049\n",
      "Starting epoch 15...\n",
      "    g_loss: 0.783 d_loss: -0.666 grad_penalty: 0.025\n",
      "Starting epoch 16...\n",
      "    g_loss: 0.660 d_loss: -0.595 grad_penalty: 0.132\n",
      "Starting epoch 17...\n",
      "    g_loss: 0.352 d_loss: -0.546 grad_penalty: 0.043\n",
      "Starting epoch 18...\n",
      "    g_loss: 0.637 d_loss: -0.534 grad_penalty: 0.031\n",
      "Starting epoch 19...\n",
      "    g_loss: 0.796 d_loss: -0.686 grad_penalty: 0.155\n",
      "Starting epoch 20...\n",
      "    g_loss: 0.601 d_loss: -0.859 grad_penalty: 0.015\n",
      "epoch 20...\n",
      "    g_loss: 0.601 d_loss: -0.859 grad_penalty: 0.015\n",
      "Starting epoch 21...\n",
      "    g_loss: 0.721 d_loss: -0.351 grad_penalty: 0.051\n",
      "Starting epoch 22...\n",
      "    g_loss: 0.588 d_loss: -0.764 grad_penalty: 0.019\n",
      "Starting epoch 23...\n",
      "    g_loss: 0.513 d_loss: -0.477 grad_penalty: 0.033\n",
      "Starting epoch 24...\n",
      "    g_loss: 0.563 d_loss: -0.304 grad_penalty: 0.117\n",
      "Starting epoch 25...\n",
      "    g_loss: 0.500 d_loss: -0.734 grad_penalty: 0.029\n",
      "Starting epoch 26...\n",
      "    g_loss: 0.293 d_loss: -0.564 grad_penalty: 0.128\n",
      "Starting epoch 27...\n",
      "    g_loss: 0.552 d_loss: -0.365 grad_penalty: 0.058\n",
      "Starting epoch 28...\n",
      "    g_loss: 0.768 d_loss: -0.645 grad_penalty: 0.009\n",
      "Starting epoch 29...\n",
      "    g_loss: 0.891 d_loss: -0.614 grad_penalty: 0.102\n",
      "Starting epoch 30...\n",
      "    g_loss: 0.875 d_loss: -0.735 grad_penalty: 0.027\n",
      "Starting epoch 31...\n",
      "    g_loss: 0.621 d_loss: -0.728 grad_penalty: 0.037\n",
      "Starting epoch 32...\n",
      "    g_loss: 0.598 d_loss: -0.677 grad_penalty: 0.039\n",
      "Starting epoch 33...\n",
      "    g_loss: 0.668 d_loss: -0.497 grad_penalty: 0.037\n",
      "Starting epoch 34...\n",
      "    g_loss: 0.433 d_loss: -0.483 grad_penalty: 0.050\n",
      "Starting epoch 35...\n",
      "    g_loss: 0.656 d_loss: -0.695 grad_penalty: 0.015\n",
      "Starting epoch 36...\n",
      "    g_loss: 0.580 d_loss: -0.674 grad_penalty: 0.019\n",
      "Starting epoch 37...\n",
      "    g_loss: 0.772 d_loss: -0.156 grad_penalty: 0.113\n",
      "Starting epoch 38...\n",
      "    g_loss: 0.737 d_loss: -0.687 grad_penalty: 0.026\n",
      "Starting epoch 39...\n",
      "    g_loss: 0.784 d_loss: -0.582 grad_penalty: 0.078\n",
      "Starting epoch 40...\n",
      "    g_loss: 0.296 d_loss: -0.441 grad_penalty: 0.073\n",
      "epoch 40...\n",
      "    g_loss: 0.296 d_loss: -0.441 grad_penalty: 0.073\n",
      "Starting epoch 41...\n",
      "    g_loss: 0.583 d_loss: -0.601 grad_penalty: 0.122\n",
      "Starting epoch 42...\n",
      "    g_loss: 0.539 d_loss: -0.632 grad_penalty: 0.020\n",
      "Starting epoch 43...\n",
      "    g_loss: 0.850 d_loss: -0.622 grad_penalty: 0.045\n",
      "Starting epoch 44...\n",
      "    g_loss: 0.769 d_loss: -0.745 grad_penalty: 0.044\n",
      "Starting epoch 45...\n",
      "    g_loss: 1.009 d_loss: -0.410 grad_penalty: 0.051\n",
      "Starting epoch 46...\n",
      "    g_loss: 0.511 d_loss: -0.525 grad_penalty: 0.031\n",
      "Starting epoch 47...\n",
      "    g_loss: 0.406 d_loss: -0.288 grad_penalty: 0.134\n",
      "Starting epoch 48...\n",
      "    g_loss: 0.187 d_loss: -0.651 grad_penalty: 0.086\n",
      "Starting epoch 49...\n",
      "    g_loss: 0.757 d_loss: -0.382 grad_penalty: 0.120\n",
      "Starting epoch 50...\n",
      "    g_loss: 0.532 d_loss: -0.410 grad_penalty: 0.026\n",
      "Starting epoch 51...\n",
      "    g_loss: 0.749 d_loss: -0.161 grad_penalty: 0.163\n",
      "Starting epoch 52...\n",
      "    g_loss: 0.765 d_loss: -0.630 grad_penalty: 0.047\n",
      "Starting epoch 53...\n",
      "    g_loss: 0.837 d_loss: -0.536 grad_penalty: 0.024\n",
      "Starting epoch 54...\n",
      "    g_loss: 0.337 d_loss: -0.431 grad_penalty: 0.081\n",
      "Starting epoch 55...\n",
      "    g_loss: 0.697 d_loss: -0.737 grad_penalty: 0.015\n",
      "Starting epoch 56...\n",
      "    g_loss: 0.366 d_loss: -0.473 grad_penalty: 0.059\n",
      "Starting epoch 57...\n",
      "    g_loss: 0.315 d_loss: -0.566 grad_penalty: 0.025\n",
      "Starting epoch 58...\n",
      "    g_loss: 0.875 d_loss: -0.183 grad_penalty: 0.113\n",
      "Starting epoch 59...\n",
      "    g_loss: 0.397 d_loss: -0.515 grad_penalty: 0.050\n",
      "Starting epoch 60...\n",
      "    g_loss: 0.662 d_loss: -0.718 grad_penalty: 0.025\n",
      "epoch 60...\n",
      "    g_loss: 0.662 d_loss: -0.718 grad_penalty: 0.025\n",
      "Starting epoch 61...\n",
      "    g_loss: 0.656 d_loss: -0.617 grad_penalty: 0.110\n",
      "Starting epoch 62...\n",
      "    g_loss: 0.355 d_loss: -0.412 grad_penalty: 0.028\n",
      "Starting epoch 63...\n",
      "    g_loss: 0.847 d_loss: -0.815 grad_penalty: 0.065\n",
      "Starting epoch 64...\n",
      "    g_loss: 0.669 d_loss: -0.531 grad_penalty: 0.029\n",
      "Starting epoch 65...\n",
      "    g_loss: 0.427 d_loss: -0.777 grad_penalty: 0.070\n",
      "Starting epoch 66...\n",
      "    g_loss: 0.877 d_loss: -0.410 grad_penalty: 0.018\n",
      "Starting epoch 67...\n",
      "    g_loss: 0.568 d_loss: -0.369 grad_penalty: 0.063\n",
      "Starting epoch 68...\n",
      "    g_loss: 0.443 d_loss: -0.426 grad_penalty: 0.032\n",
      "Starting epoch 69...\n",
      "    g_loss: 0.848 d_loss: -0.399 grad_penalty: 0.095\n",
      "Starting epoch 70...\n",
      "    g_loss: 0.603 d_loss: -0.580 grad_penalty: 0.047\n",
      "Starting epoch 71...\n",
      "    g_loss: 0.426 d_loss: -0.239 grad_penalty: 0.054\n",
      "Starting epoch 72...\n",
      "    g_loss: 0.602 d_loss: -0.222 grad_penalty: 0.034\n",
      "Starting epoch 73...\n",
      "    g_loss: 0.486 d_loss: -0.456 grad_penalty: 0.043\n",
      "Starting epoch 74...\n",
      "    g_loss: 0.608 d_loss: -0.201 grad_penalty: 0.222\n",
      "Starting epoch 75...\n",
      "    g_loss: 0.681 d_loss: -0.492 grad_penalty: 0.028\n",
      "Starting epoch 76...\n",
      "    g_loss: 0.726 d_loss: -0.560 grad_penalty: 0.011\n",
      "Starting epoch 77...\n",
      "    g_loss: 0.806 d_loss: -0.486 grad_penalty: 0.051\n",
      "Starting epoch 78...\n",
      "    g_loss: 0.444 d_loss: -0.594 grad_penalty: 0.020\n",
      "Starting epoch 79...\n",
      "    g_loss: 1.170 d_loss: -0.430 grad_penalty: 0.074\n",
      "Starting epoch 80...\n",
      "    g_loss: 0.669 d_loss: -0.474 grad_penalty: 0.024\n",
      "epoch 80...\n",
      "    g_loss: 0.669 d_loss: -0.474 grad_penalty: 0.024\n",
      "Starting epoch 81...\n",
      "    g_loss: 0.659 d_loss: -0.667 grad_penalty: 0.016\n",
      "Starting epoch 82...\n",
      "    g_loss: 0.722 d_loss: -0.710 grad_penalty: 0.159\n",
      "Starting epoch 83...\n",
      "    g_loss: 0.801 d_loss: -0.520 grad_penalty: 0.063\n",
      "Starting epoch 84...\n",
      "    g_loss: 0.447 d_loss: -0.426 grad_penalty: 0.089\n",
      "Starting epoch 85...\n",
      "    g_loss: 0.637 d_loss: -0.457 grad_penalty: 0.020\n",
      "Starting epoch 86...\n",
      "    g_loss: 0.467 d_loss: -0.417 grad_penalty: 0.053\n",
      "Starting epoch 87...\n",
      "    g_loss: 0.759 d_loss: -0.477 grad_penalty: 0.049\n",
      "Starting epoch 88...\n",
      "    g_loss: 0.519 d_loss: -0.466 grad_penalty: 0.020\n",
      "Starting epoch 89...\n",
      "    g_loss: 0.825 d_loss: -0.297 grad_penalty: 0.033\n",
      "Starting epoch 90...\n",
      "    g_loss: 0.595 d_loss: -0.635 grad_penalty: 0.021\n",
      "Starting epoch 91...\n",
      "    g_loss: 0.509 d_loss: -0.528 grad_penalty: 0.122\n",
      "Starting epoch 92...\n",
      "    g_loss: 0.377 d_loss: -0.514 grad_penalty: 0.035\n",
      "Starting epoch 93...\n",
      "    g_loss: 0.811 d_loss: -0.545 grad_penalty: 0.039\n",
      "Starting epoch 94...\n",
      "    g_loss: 0.553 d_loss: -0.485 grad_penalty: 0.020\n",
      "Starting epoch 95...\n",
      "    g_loss: 0.487 d_loss: -0.325 grad_penalty: 0.239\n",
      "Starting epoch 96...\n",
      "    g_loss: 0.139 d_loss: -0.325 grad_penalty: 0.060\n",
      "Starting epoch 97...\n",
      "    g_loss: 0.817 d_loss: -0.466 grad_penalty: 0.072\n",
      "Starting epoch 98...\n",
      "    g_loss: 0.447 d_loss: -0.639 grad_penalty: 0.053\n",
      "Starting epoch 99...\n",
      "    g_loss: 0.757 d_loss: 0.041 grad_penalty: 0.103\n",
      "Starting epoch 100...\n",
      "    g_loss: 0.616 d_loss: -0.540 grad_penalty: 0.014\n",
      "epoch 100...\n",
      "    g_loss: 0.616 d_loss: -0.540 grad_penalty: 0.014\n"
     ]
    }
   ],
   "source": [
    "wgan20.train(data_loader20, 100)"
   ]
  },
  {
   "cell_type": "code",
   "execution_count": 132,
   "metadata": {},
   "outputs": [
    {
     "data": {
      "image/png": "[encoded data removed]",
      "text/plain": [
       "<Figure size 1200x400 with 1 Axes>"
      ]
     },
     "metadata": {
      "image/png": {
       "height": 372,
       "width": 1010
      }
     },
     "output_type": "display_data"
    }
   ],
   "source": [
    "z = torch.randn(latent_dim).to(device)\n",
    "plotCurve(wgan20.G(z).squeeze())"
   ]
  },
  {
   "cell_type": "code",
   "execution_count": null,
   "metadata": {},
   "outputs": [],
   "source": []
  },
  {
   "cell_type": "code",
   "execution_count": 124,
   "metadata": {},
   "outputs": [],
   "source": [
    "torch.save(wgan20.G.state_dict(), 'WGAN-GP-Seyfert-2.0-gen.pt')\n",
    "torch.save(wgan20.D.state_dict(), 'WGAN-GP-Seyfert-2.0-disc.pt')"
   ]
  },
  {
   "cell_type": "markdown",
   "metadata": {},
   "source": [
    "# Load saved network and generate data"
   ]
  },
  {
   "cell_type": "code",
   "execution_count": 8,
   "metadata": {
    "ExecuteTime": {
     "end_time": "2019-11-17T23:34:08.235100Z",
     "start_time": "2019-11-17T23:34:07.962633Z"
    }
   },
   "outputs": [],
   "source": [
    "generator = Generator(latent_dim, img_size)\n",
    "discriminator = Discriminator(img_size)\n",
    "\n",
    "g_optimizer = torch.optim.Adam(generator.parameters(), lr=1e-4, betas=(0.5, 0.9))\n",
    "d_optimizer = torch.optim.Adam(discriminator.parameters(), lr=1e-4, betas=(0.5, 0.9))\n",
    "\n",
    "wgan = WGANGP(generator, discriminator, g_optimizer, d_optimizer, img_size, latent_dim, 'XRT')"
   ]
  },
  {
   "cell_type": "code",
   "execution_count": 12,
   "metadata": {
    "ExecuteTime": {
     "end_time": "2019-11-17T23:36:53.630759Z",
     "start_time": "2019-11-17T23:36:53.616974Z"
    }
   },
   "outputs": [
    {
     "ename": "AttributeError",
     "evalue": "'str' object has no attribute 'copy'",
     "output_type": "error",
     "traceback": [
      "\u001b[0;31m---------------------------------------------------------------------------\u001b[0m",
      "\u001b[0;31mAttributeError\u001b[0m                            Traceback (most recent call last)",
      "\u001b[0;32m<ipython-input-12-f46b25662e37>\u001b[0m in \u001b[0;36m<module>\u001b[0;34m\u001b[0m\n\u001b[1;32m      1\u001b[0m \u001b[0mwgan\u001b[0m\u001b[0;34m.\u001b[0m\u001b[0mG\u001b[0m\u001b[0;34m.\u001b[0m\u001b[0meval\u001b[0m\u001b[0;34m(\u001b[0m\u001b[0;34m)\u001b[0m\u001b[0;34m\u001b[0m\u001b[0;34m\u001b[0m\u001b[0m\n\u001b[0;32m----> 2\u001b[0;31m \u001b[0mwgan\u001b[0m\u001b[0;34m.\u001b[0m\u001b[0mG\u001b[0m\u001b[0;34m.\u001b[0m\u001b[0mload_state_dict\u001b[0m\u001b[0;34m(\u001b[0m\u001b[0;34m'./WGAN-GP-Seyfert-1.9-gen.pt'\u001b[0m\u001b[0;34m)\u001b[0m\u001b[0;34m\u001b[0m\u001b[0;34m\u001b[0m\u001b[0m\n\u001b[0m",
      "\u001b[0;32m/usr/lib64/python3.6/site-packages/torch/nn/modules/module.py\u001b[0m in \u001b[0;36mload_state_dict\u001b[0;34m(self, state_dict, strict)\u001b[0m\n\u001b[1;32m    816\u001b[0m         \u001b[0;31m# copy state_dict so _load_from_state_dict can modify it\u001b[0m\u001b[0;34m\u001b[0m\u001b[0;34m\u001b[0m\u001b[0;34m\u001b[0m\u001b[0m\n\u001b[1;32m    817\u001b[0m         \u001b[0mmetadata\u001b[0m \u001b[0;34m=\u001b[0m \u001b[0mgetattr\u001b[0m\u001b[0;34m(\u001b[0m\u001b[0mstate_dict\u001b[0m\u001b[0;34m,\u001b[0m \u001b[0;34m'_metadata'\u001b[0m\u001b[0;34m,\u001b[0m \u001b[0;32mNone\u001b[0m\u001b[0;34m)\u001b[0m\u001b[0;34m\u001b[0m\u001b[0;34m\u001b[0m\u001b[0m\n\u001b[0;32m--> 818\u001b[0;31m         \u001b[0mstate_dict\u001b[0m \u001b[0;34m=\u001b[0m \u001b[0mstate_dict\u001b[0m\u001b[0;34m.\u001b[0m\u001b[0mcopy\u001b[0m\u001b[0;34m(\u001b[0m\u001b[0;34m)\u001b[0m\u001b[0;34m\u001b[0m\u001b[0;34m\u001b[0m\u001b[0m\n\u001b[0m\u001b[1;32m    819\u001b[0m         \u001b[0;32mif\u001b[0m \u001b[0mmetadata\u001b[0m \u001b[0;32mis\u001b[0m \u001b[0;32mnot\u001b[0m \u001b[0;32mNone\u001b[0m\u001b[0;34m:\u001b[0m\u001b[0;34m\u001b[0m\u001b[0;34m\u001b[0m\u001b[0m\n\u001b[1;32m    820\u001b[0m             \u001b[0mstate_dict\u001b[0m\u001b[0;34m.\u001b[0m\u001b[0m_metadata\u001b[0m \u001b[0;34m=\u001b[0m \u001b[0mmetadata\u001b[0m\u001b[0;34m\u001b[0m\u001b[0;34m\u001b[0m\u001b[0m\n",
      "\u001b[0;31mAttributeError\u001b[0m: 'str' object has no attribute 'copy'"
     ]
    }
   ],
   "source": [
    "wgan.G.eval()\n",
    "wgan.G.load_state_dict('./WGAN-GP-Seyfert-1.9-gen.pt')"
   ]
  },
  {
   "cell_type": "code",
   "execution_count": 13,
   "metadata": {
    "ExecuteTime": {
     "end_time": "2019-11-17T23:37:00.813707Z",
     "start_time": "2019-11-17T23:37:00.807869Z"
    }
   },
   "outputs": [
    {
     "data": {
      "text/plain": [
       "Generator(\n",
       "  (latent_to_features): Sequential(\n",
       "    (0): Linear(in_features=128, out_features=58880, bias=True)\n",
       "    (1): ReLU()\n",
       "  )\n",
       "  (features_to_image): Sequential(\n",
       "    (0): ConvTranspose1d(256, 128, kernel_size=(4,), stride=(2,), padding=(1,))\n",
       "    (1): BatchNorm1d(128, eps=1e-05, momentum=0.1, affine=True, track_running_stats=True)\n",
       "    (2): LeakyReLU(negative_slope=0.2)\n",
       "    (3): ConvTranspose1d(128, 64, kernel_size=(4,), stride=(2,), padding=(1,))\n",
       "    (4): BatchNorm1d(64, eps=1e-05, momentum=0.1, affine=True, track_running_stats=True)\n",
       "    (5): LeakyReLU(negative_slope=0.2)\n",
       "    (6): ConvTranspose1d(64, 32, kernel_size=(4,), stride=(2,), padding=(1,))\n",
       "    (7): BatchNorm1d(32, eps=1e-05, momentum=0.1, affine=True, track_running_stats=True)\n",
       "    (8): LeakyReLU(negative_slope=0.2)\n",
       "    (9): ConvTranspose1d(32, 1, kernel_size=(4,), stride=(2,), padding=(1,))\n",
       "    (10): Tanh()\n",
       "  )\n",
       ")"
      ]
     },
     "execution_count": 13,
     "metadata": {},
     "output_type": "execute_result"
    }
   ],
   "source": [
    "wgan.G"
   ]
  },
  {
   "cell_type": "code",
   "execution_count": null,
   "metadata": {},
   "outputs": [],
   "source": []
  }
 ],
 "metadata": {
  "kernelspec": {
   "display_name": "Python 3",
   "language": "python",
   "name": "python3"
  },
  "language_info": {
   "codemirror_mode": {
    "name": "ipython",
    "version": 3
   },
   "file_extension": ".py",
   "mimetype": "text/x-python",
   "name": "python",
   "nbconvert_exporter": "python",
   "pygments_lexer": "ipython3",
   "version": "3.6.7"
  },
  "toc": {
   "base_numbering": 1,
   "nav_menu": {},
   "number_sections": true,
   "sideBar": true,
   "skip_h1_title": false,
   "title_cell": "Table of Contents",
   "title_sidebar": "Contents",
   "toc_cell": false,
   "toc_position": {},
   "toc_section_display": true,
   "toc_window_display": false
  },
  "varInspector": {
   "cols": {
    "lenName": 16,
    "lenType": 16,
    "lenVar": 40
   },
   "kernels_config": {
    "python": {
     "delete_cmd_postfix": "",
     "delete_cmd_prefix": "del ",
     "library": "var_list.py",
     "varRefreshCmd": "print(var_dic_list())"
    },
    "r": {
     "delete_cmd_postfix": ") ",
     "delete_cmd_prefix": "rm(",
     "library": "var_list.r",
     "varRefreshCmd": "cat(var_dic_list()) "
    }
   },
   "types_to_exclude": [
    "module",
    "function",
    "builtin_function_or_method",
    "instance",
    "_Feature"
   ],
   "window_display": false
  }
 },
 "nbformat": 4,
 "nbformat_minor": 2
}
