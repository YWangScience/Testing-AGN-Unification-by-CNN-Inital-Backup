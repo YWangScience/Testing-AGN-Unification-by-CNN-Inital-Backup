{
 "cells": [
  {
   "cell_type": "markdown",
   "metadata": {},
   "source": [
    "# AGN Type I Catalogue\n",
    "\n",
    "**A Comprehensive and Uniform Sample of Broad-line Active Galactic Nuclei from the SDSS DR7**\n",
    "\n",
    "https://iopscience.iop.org/article/10.3847/1538-4365/ab298b"
   ]
  },
  {
   "cell_type": "code",
   "execution_count": 1,
   "metadata": {
    "ExecuteTime": {
     "end_time": "2020-01-01T04:54:48.349804Z",
     "start_time": "2020-01-01T04:54:47.496932Z"
    }
   },
   "outputs": [],
   "source": [
    "from astropy.io import fits\n",
    "from astropy.table import Table\n",
    "from matplotlib import pyplot as plt\n",
    "from astroML.datasets import fetch_sdss_spectrum\n",
    "import multiprocessing\n",
    "import pandas as pd\n",
    "from functools import partial\n",
    "import numpy as np\n",
    "import glob\n",
    "import re\n",
    "import wget"
   ]
  },
  {
   "cell_type": "markdown",
   "metadata": {},
   "source": [
    "# Read lists"
   ]
  },
  {
   "cell_type": "code",
   "execution_count": 2,
   "metadata": {
    "ExecuteTime": {
     "end_time": "2020-01-01T04:54:48.479620Z",
     "start_time": "2020-01-01T04:54:48.351718Z"
    }
   },
   "outputs": [],
   "source": [
    "galaxy = pd.read_csv('galaxy.csv', header=0, comment='#')\n",
    "QSO = pd.read_csv('QSO.csv', header=0, comment='#')\n",
    "sy19 = pd.read_csv('sy19.csv', header=0, comment='#')\n",
    "sy20 = pd.read_csv('sy20.csv', header=0, comment='#')\n",
    "\n",
    "# duplication filtered\n",
    "sy20d = pd.read_csv('sy20d.csv', header=0, comment='#')\n",
    "galaxyd = pd.read_csv('galaxyd.csv', header=0, comment='#')\n"
   ]
  },
  {
   "cell_type": "markdown",
   "metadata": {},
   "source": [
    "# Define multithreds functions"
   ]
  },
  {
   "cell_type": "code",
   "execution_count": 3,
   "metadata": {
    "ExecuteTime": {
     "end_time": "2020-01-01T04:54:51.129719Z",
     "start_time": "2020-01-01T04:54:51.121748Z"
    }
   },
   "outputs": [],
   "source": [
    "def parallelize_dataframe(df,func,data_home='./',number=8):\n",
    "    num_partitions = number # number of partitions to split dataframe\n",
    "    df_split = np.array_split(df, num_partitions)\n",
    "    pool = multiprocessing.Pool(num_partitions)\n",
    "    f = partial(func, data_home)\n",
    "    pool.map(f, df_split)\n",
    "    pool.close()\n",
    "    pool.join()\n",
    "    return\n",
    "\n",
    "def download(data_home,df):\n",
    "    # Fetch single spectrum\n",
    "    for index, row in df.iterrows():\n",
    "        plate = str(row['PLATE']).zfill(4)\n",
    "        mjd = str(row['MJD']).zfill(5)\n",
    "        fiberID = str(row['FIBERID']).zfill(4)\n",
    "        rootURL = 'https://data.sdss.org/sas/dr16/sdss/spectro/redux/26/spectra/'+plate+'/'\n",
    "        filename = 'spec-'+plate+'-'+mjd+'-'+fiberID+'.fits'\n",
    "        url = rootURL+filename\n",
    "        try:\n",
    "            wget.download(url,data_home)\n",
    "        except:\n",
    "            print(\"!!!!! Failed:\",row['PLATE'], row['MJD'], row['FIBERID'])"
   ]
  },
  {
   "cell_type": "markdown",
   "metadata": {},
   "source": [
    "# Download galaxy Type I"
   ]
  },
  {
   "cell_type": "code",
   "execution_count": 4,
   "metadata": {
    "ExecuteTime": {
     "end_time": "2020-01-01T05:04:20.179709Z",
     "start_time": "2020-01-01T04:54:52.773649Z"
    }
   },
   "outputs": [
    {
     "name": "stdout",
     "output_type": "stream",
     "text": [
      "!!!!! Failed: 2516 54240 32\n",
      "!!!!! Failed: 1631 54468 199\n",
      "!!!!! Failed: 1631 54468 384\n"
     ]
    }
   ],
   "source": [
    "parallelize_dataframe(galaxy,download,data_home='./DR16/galaxy',number=16)"
   ]
  },
  {
   "cell_type": "markdown",
   "metadata": {},
   "source": [
    "# Download galaxy Type I (dupllication filtered)"
   ]
  },
  {
   "cell_type": "code",
   "execution_count": 5,
   "metadata": {
    "ExecuteTime": {
     "end_time": "2020-01-01T05:07:47.305001Z",
     "start_time": "2020-01-01T05:04:20.181728Z"
    }
   },
   "outputs": [
    {
     "name": "stdout",
     "output_type": "stream",
     "text": [
      "!!!!! Failed: 2516 54240 32\n",
      "!!!!! Failed: 1631 54468 199\n",
      "!!!!! Failed: 1631 54468 384\n"
     ]
    }
   ],
   "source": [
    "parallelize_dataframe(galaxyd,download,data_home='./DR16/galaxyd',number=16)"
   ]
  },
  {
   "cell_type": "markdown",
   "metadata": {
    "ExecuteTime": {
     "end_time": "2020-01-01T04:53:45.826574Z",
     "start_time": "2020-01-01T04:53:45.821663Z"
    }
   },
   "source": [
    "# Download sy20 (dupllication filtered)"
   ]
  },
  {
   "cell_type": "code",
   "execution_count": 6,
   "metadata": {
    "ExecuteTime": {
     "end_time": "2020-01-01T07:58:55.710939Z",
     "start_time": "2020-01-01T05:07:47.306624Z"
    }
   },
   "outputs": [],
   "source": [
    "parallelize_dataframe(sy20d,download,data_home='./DR16/sy20d',number=16)"
   ]
  },
  {
   "cell_type": "markdown",
   "metadata": {},
   "source": [
    "# Download QSO Type I"
   ]
  },
  {
   "cell_type": "code",
   "execution_count": 7,
   "metadata": {
    "ExecuteTime": {
     "end_time": "2020-01-01T07:58:55.718720Z",
     "start_time": "2020-01-01T07:58:55.715630Z"
    }
   },
   "outputs": [],
   "source": [
    "# parallelize_dataframe(QSO,download,data_home='./DR16/QSO',number=16)"
   ]
  },
  {
   "cell_type": "markdown",
   "metadata": {},
   "source": [
    "# Download sy19"
   ]
  },
  {
   "cell_type": "code",
   "execution_count": 8,
   "metadata": {
    "ExecuteTime": {
     "end_time": "2020-01-01T07:58:55.722288Z",
     "start_time": "2020-01-01T07:58:55.720461Z"
    }
   },
   "outputs": [],
   "source": [
    "# parallelize_dataframe(sy19,download,data_home='./DR16/sy19',number=16)"
   ]
  },
  {
   "cell_type": "markdown",
   "metadata": {},
   "source": [
    "# Notes"
   ]
  },
  {
   "cell_type": "code",
   "execution_count": 9,
   "metadata": {
    "ExecuteTime": {
     "end_time": "2020-01-01T07:58:55.725731Z",
     "start_time": "2020-01-01T07:58:55.723764Z"
    }
   },
   "outputs": [],
   "source": [
    "## linux monitoring net traffic: nethogs \n",
    "## counting file number: ls sy19 | wc -l"
   ]
  },
  {
   "cell_type": "code",
   "execution_count": null,
   "metadata": {},
   "outputs": [],
   "source": []
  }
 ],
 "metadata": {
  "kernelspec": {
   "display_name": "Python 3",
   "language": "python",
   "name": "python3"
  },
  "language_info": {
   "codemirror_mode": {
    "name": "ipython",
    "version": 3
   },
   "file_extension": ".py",
   "mimetype": "text/x-python",
   "name": "python",
   "nbconvert_exporter": "python",
   "pygments_lexer": "ipython3",
   "version": "3.6.7"
  },
  "toc": {
   "base_numbering": 1,
   "nav_menu": {},
   "number_sections": true,
   "sideBar": true,
   "skip_h1_title": false,
   "title_cell": "Table of Contents",
   "title_sidebar": "Contents",
   "toc_cell": false,
   "toc_position": {},
   "toc_section_display": true,
   "toc_window_display": false
  }
 },
 "nbformat": 4,
 "nbformat_minor": 2
}
